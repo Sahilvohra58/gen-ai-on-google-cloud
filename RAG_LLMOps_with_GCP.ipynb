{
  "nbformat": 4,
  "nbformat_minor": 0,
  "metadata": {
    "colab": {
      "provenance": [],
      "toc_visible": true
    },
    "kernelspec": {
      "name": "python3",
      "display_name": "Python 3"
    },
    "language_info": {
      "name": "python"
    }
  },
  "cells": [
    {
      "cell_type": "markdown",
      "source": [
        "# 1.Setup"
      ],
      "metadata": {
        "id": "cwKWAVwhe1ns"
      }
    },
    {
      "cell_type": "markdown",
      "source": [
        "## Installation\n",
        "\n",
        "We would require ther following additional packages:\n",
        "1. google-cloud-storage==2.17.0\n",
        "2. google-cloud-documentai==2.29.1\n",
        "3. google-cloud-aiplatform==1.49.0\n",
        "4. vertexai==1.49.0"
      ],
      "metadata": {
        "id": "N43YcbM0iePE"
      }
    },
    {
      "cell_type": "code",
      "execution_count": 1,
      "metadata": {
        "colab": {
          "base_uri": "https://localhost:8080/"
        },
        "id": "Jmb3xqKDer-6",
        "outputId": "a708c985-a410-4619-aa78-672495525d76"
      },
      "outputs": [
        {
          "output_type": "stream",
          "name": "stdout",
          "text": [
            "\u001b[2K     \u001b[90m━━━━━━━━━━━━━━━━━━━━━━━━━━━━━━━━━━━━━━━━\u001b[0m \u001b[32m126.5/126.5 kB\u001b[0m \u001b[31m3.0 MB/s\u001b[0m eta \u001b[36m0:00:00\u001b[0m\n",
            "\u001b[2K     \u001b[90m━━━━━━━━━━━━━━━━━━━━━━━━━━━━━━━━━━━━━━━━\u001b[0m \u001b[32m315.1/315.1 kB\u001b[0m \u001b[31m6.3 MB/s\u001b[0m eta \u001b[36m0:00:00\u001b[0m\n",
            "\u001b[2K     \u001b[90m━━━━━━━━━━━━━━━━━━━━━━━━━━━━━━━━━━━━━━━━\u001b[0m \u001b[32m4.9/4.9 MB\u001b[0m \u001b[31m38.6 MB/s\u001b[0m eta \u001b[36m0:00:00\u001b[0m\n",
            "\u001b[?25h\u001b[33mWARNING: google-cloud-aiplatform 1.49.0 does not provide the extra 'all'\u001b[0m\u001b[33m\n",
            "\u001b[0m"
          ]
        }
      ],
      "source": [
        "!pip install --upgrade --quiet google-cloud-storage==2.17.0\n",
        "!pip install --upgrade --quiet google-cloud-documentai==2.29.1\n",
        "!pip install --upgrade --quiet google-cloud-aiplatform==1.49.0\n",
        "!pip install --upgrade --quiet vertexai==1.49.0"
      ]
    },
    {
      "cell_type": "markdown",
      "source": [
        "## Create a GCP project and setup configs for it."
      ],
      "metadata": {
        "id": "UrDjZvb9iTqE"
      }
    },
    {
      "cell_type": "code",
      "source": [
        "!gcloud auth application-default login\n",
        "!gcloud config set project rag-llmops-gcp\n",
        "!gcloud config get-value project"
      ],
      "metadata": {
        "colab": {
          "base_uri": "https://localhost:8080/"
        },
        "id": "piVNMLNhhuUy",
        "outputId": "4f168187-d2f1-410c-e221-b4aea56cf38c"
      },
      "execution_count": 2,
      "outputs": [
        {
          "output_type": "stream",
          "name": "stdout",
          "text": [
            "Go to the following link in your browser, and complete the sign-in prompts:\n",
            "\n",
            "    https://accounts.google.com/o/oauth2/auth?response_type=code&client_id=764086051850-6qr4p6gpi6hn506pt8ejuq83di341hur.apps.googleusercontent.com&redirect_uri=https%3A%2F%2Fsdk.cloud.google.com%2Fapplicationdefaultauthcode.html&scope=openid+https%3A%2F%2Fwww.googleapis.com%2Fauth%2Fuserinfo.email+https%3A%2F%2Fwww.googleapis.com%2Fauth%2Fcloud-platform+https%3A%2F%2Fwww.googleapis.com%2Fauth%2Fsqlservice.login&state=XxrwJpg0pxLfi5M8VmwRaiAnKSYjQq&prompt=consent&token_usage=remote&access_type=offline&code_challenge=-27-41f4KcIuU40snRYmnG5oz_5HBxc4M2fm_YYjCq4&code_challenge_method=S256\n",
            "\n",
            "Once finished, enter the verification code provided in your browser: 4/0ATx3LY5HTpXcjxkGitF-O1cgnoTXczwzTj9fQuYmvlNL-dR3tkCQRaYHqX-f6umIEMjvog\n",
            "\n",
            "Credentials saved to file: [/content/.config/application_default_credentials.json]\n",
            "\n",
            "These credentials will be used by any library that requests Application Default Credentials (ADC).\n",
            "\u001b[1;33mWARNING:\u001b[0m \n",
            "Cannot find a quota project to add to ADC. You might receive a \"quota exceeded\" or \"API not enabled\" error. Run $ gcloud auth application-default set-quota-project to add a quota project.\n",
            "\u001b[1;33mWARNING:\u001b[0m Your active project does not match the quota project in your local Application Default Credentials file. This might result in unexpected quota issues.\n",
            "\n",
            "To update your Application Default Credentials quota project, use the `gcloud auth application-default set-quota-project` command.\n",
            "Updated property [core/project].\n",
            "rag-llmops-gcp\n"
          ]
        }
      ]
    },
    {
      "cell_type": "code",
      "source": [
        "# Run the following code if the colab notebook performs incomplete authentication.\n",
        "!gcloud auth login"
      ],
      "metadata": {
        "colab": {
          "base_uri": "https://localhost:8080/"
        },
        "id": "P6iLU6F1nmJV",
        "outputId": "492c765e-cb19-45c8-fc9e-1e9c8f02334c"
      },
      "execution_count": 3,
      "outputs": [
        {
          "output_type": "stream",
          "name": "stdout",
          "text": [
            "Go to the following link in your browser, and complete the sign-in prompts:\n",
            "\n",
            "    https://accounts.google.com/o/oauth2/auth?response_type=code&client_id=32555940559.apps.googleusercontent.com&redirect_uri=https%3A%2F%2Fsdk.cloud.google.com%2Fauthcode.html&scope=openid+https%3A%2F%2Fwww.googleapis.com%2Fauth%2Fuserinfo.email+https%3A%2F%2Fwww.googleapis.com%2Fauth%2Fcloud-platform+https%3A%2F%2Fwww.googleapis.com%2Fauth%2Fappengine.admin+https%3A%2F%2Fwww.googleapis.com%2Fauth%2Fsqlservice.login+https%3A%2F%2Fwww.googleapis.com%2Fauth%2Fcompute+https%3A%2F%2Fwww.googleapis.com%2Fauth%2Faccounts.reauth&state=qVUejJ0GYWqnbDx9ExEjgq6Wswgz8j&prompt=consent&token_usage=remote&access_type=offline&code_challenge=y6gN6zF1P5jmRi8k-JzT8HFLzMgOnpSpZCtIxHlCB5w&code_challenge_method=S256\n",
            "\n",
            "Once finished, enter the verification code provided in your browser: 4/0ATx3LY4Jo21YTU0_IniG2NhytEEJfJ_VfJglNKsKKe8LxOTfTtchehLas8ZfCXYC6BJ4kQ\n",
            "\n",
            "You are now logged in as [vohrasahil58@gmail.com].\n",
            "Your current project is [rag-llmops-gcp].  You can change this setting by running:\n",
            "  $ gcloud config set project PROJECT_ID\n"
          ]
        }
      ]
    },
    {
      "cell_type": "code",
      "source": [
        "PROJECT_ID_DETAILS = !gcloud config get-value project\n",
        "PROJECT_ID = PROJECT_ID_DETAILS[0]\n",
        "PROJECT_NUMBER_DETAILS = !gcloud projects describe $PROJECT_ID --format=\"value(projectNumber)\"\n",
        "PROJECT_NUMBER = PROJECT_NUMBER_DETAILS[0]  # The project number is item 0 in the list returned by the gcloud command\n",
        "\n",
        "\n",
        "# !gsutil mb -l us-central1 gs://{BUCKET}\n",
        "BUCKET=f\"{PROJECT_ID}-bucket\"\n",
        "REGION=\"northamerica-northeast1\"\n",
        "print(f\"Project ID: {PROJECT_ID}\")\n",
        "print(f\"Project Number: {PROJECT_NUMBER}\")\n",
        "print(f\"Bucket Name: {BUCKET}\")"
      ],
      "metadata": {
        "colab": {
          "base_uri": "https://localhost:8080/"
        },
        "id": "tdj-wATigt7f",
        "outputId": "02de376f-db1a-48d9-b696-5cc6846467aa"
      },
      "execution_count": 4,
      "outputs": [
        {
          "output_type": "stream",
          "name": "stdout",
          "text": [
            "Project ID: rag-llmops-gcp\n",
            "Project Number: 314626027617\n",
            "Bucket Name: rag-llmops-gcp-bucket\n"
          ]
        }
      ]
    },
    {
      "cell_type": "markdown",
      "source": [
        "#2.Divide documents in chunks\n",
        "\n",
        "Get sample doc from git"
      ],
      "metadata": {
        "id": "Yyb-QwMoqOFu"
      }
    },
    {
      "cell_type": "code",
      "source": [
        "# !git clone https://github.com/Sahilvohra58/gen-ai-on-google-cloud.git"
      ],
      "metadata": {
        "colab": {
          "base_uri": "https://localhost:8080/"
        },
        "id": "AuqquGlYnK44",
        "outputId": "4412f369-bb72-4259-9903-9b3f6e7ddaa2"
      },
      "execution_count": 5,
      "outputs": [
        {
          "output_type": "stream",
          "name": "stdout",
          "text": [
            "Cloning into 'gen-ai-on-google-cloud'...\n",
            "remote: Enumerating objects: 3, done.\u001b[K\n",
            "remote: Counting objects: 100% (3/3), done.\u001b[K\n",
            "remote: Compressing objects: 100% (2/2), done.\u001b[K\n",
            "remote: Total 3 (delta 0), reused 0 (delta 0), pack-reused 0\u001b[K\n",
            "Receiving objects: 100% (3/3), 685.69 KiB | 9.52 MiB/s, done.\n"
          ]
        }
      ]
    },
    {
      "cell_type": "markdown",
      "source": [
        "## Create a document AI processor\n",
        "\n",
        "Useful resources:\n",
        "- https://cloud.google.com/document-ai/docs/samples/documentai-create-processor?hl=en\n",
        "- https://cloud.google.com/document-ai/docs/overview#dai-processors\n",
        "- https://cloud.google.com/python/docs/reference/documentai/1.2.1/google.cloud.documentai_v1beta3.services.document_processor_service.DocumentProcessorServiceClient\n",
        "- https://cloud.google.com/document-ai/docs/layout-parse-chunk (How to create chunks from docs. Not mentioned in the video)\n"
      ],
      "metadata": {
        "id": "XCvjP8yUtquR"
      }
    },
    {
      "cell_type": "code",
      "source": [
        "from datetime import datetime\n",
        "from google.api_core.client_options import ClientOptions\n",
        "from google.cloud import documentai\n",
        "\n",
        "UID = datetime.now().strftime(\"%m%d%H%M\")\n",
        "\n",
        "location = 'us'\n",
        "processor_display_name = f\"RAG-Chunking-Processor-{UID}\"\n",
        "processor_type = 'LAYOUT_PARSER_PROCESSOR'\n",
        "\n",
        "opts = ClientOptions(api_endpoint=f\"{location}-documentai.googleapis.com\")\n",
        "client = documentai.DocumentProcessorServiceClient(client_options=opts)\n",
        "\n",
        "parent = client.common_location_path(PROJECT_NUMBER, location)\n",
        "\n",
        "processor = client.create_processor(\n",
        "    parent=parent,\n",
        "    processor=documentai.Processor(\n",
        "        display_name=processor_display_name, type_=processor_type\n",
        "    ),\n",
        ")\n",
        "\n",
        "print(f\"Processor Name: {processor.name}\")\n",
        "print(f\"Processor Display Name: {processor.display_name}\")\n",
        "print(f\"Processor Type: {processor.type_}\")\n",
        "print(f\"Processor State: {processor.state}\")\n",
        "\n",
        "processor_name = processor.name"
      ],
      "metadata": {
        "colab": {
          "base_uri": "https://localhost:8080/"
        },
        "id": "9Emx2Y6QrL38",
        "outputId": "efca92b8-afdf-4c99-c31c-13ab097ed311"
      },
      "execution_count": 48,
      "outputs": [
        {
          "output_type": "stream",
          "name": "stdout",
          "text": [
            "Processor Name: projects/314626027617/locations/us/processors/5d7d5f3c2d28335\n",
            "Processor Display Name: RAG-Chunking-Processor-07090208\n",
            "Processor Type: LAYOUT_PARSER_PROCESSOR\n",
            "Processor State: 1\n"
          ]
        }
      ]
    },
    {
      "cell_type": "markdown",
      "source": [
        "## Parse document(s) into chunks"
      ],
      "metadata": {
        "id": "BXQaVnfFwNa_"
      }
    },
    {
      "cell_type": "code",
      "source": [
        "from typing import Optional\n",
        "from google.cloud import documentai_v1beta3 as documentai\n",
        "\n",
        "file_path = \"/content/gen-ai-on-google-cloud/Cinnamon.pdf\"\n",
        "mime_type = \"application/pdf\"\n",
        "\n",
        "def process_document_sample(\n",
        "    project_id: str,\n",
        "    location: str,\n",
        "    processor_name: str,\n",
        "    file_path: str,\n",
        "    mime_type: str,\n",
        ") -> None:\n",
        "    opts = ClientOptions(api_endpoint=f\"{location}-documentai.googleapis.com\")\n",
        "\n",
        "    name = processor_name\n",
        "    client = documentai.DocumentProcessorServiceClient(client_options=opts)\n",
        "\n",
        "    with open(file_path, \"rb\") as image:\n",
        "        image_content = image.read()\n",
        "\n",
        "    raw_document = documentai.RawDocument(content=image_content, mime_type=mime_type)\n",
        "\n",
        "    process_options = documentai.ProcessOptions(\n",
        "        layout_config=documentai.ProcessOptions.LayoutConfig(\n",
        "            chunking_config=documentai.ProcessOptions.LayoutConfig.ChunkingConfig(\n",
        "                chunk_size=200,\n",
        "                include_ancestor_headings=True\n",
        "            )\n",
        "        )\n",
        "    )\n",
        "\n",
        "\n",
        "    request = documentai.ProcessRequest(\n",
        "        name=name,\n",
        "        raw_document=raw_document,\n",
        "        process_options=process_options,\n",
        "    )\n",
        "\n",
        "    result = client.process_document(request=request)\n",
        "    document = result.document\n",
        "    return document\n",
        "\n",
        "document_object = process_document_sample(PROJECT_NUMBER, location, processor_name, file_path, mime_type)\n",
        "\n",
        "doc_layout = document_object.document_layout\n",
        "chunked_doc = document_object.chunked_document"
      ],
      "metadata": {
        "id": "qb9lPny_vH-Z"
      },
      "execution_count": 49,
      "outputs": []
    },
    {
      "cell_type": "code",
      "source": [
        "print(doc_layout.blocks[:2])"
      ],
      "metadata": {
        "colab": {
          "base_uri": "https://localhost:8080/"
        },
        "id": "J73MAdQwv8w7",
        "outputId": "715d65d0-883b-4fb3-d16f-24a116be8748"
      },
      "execution_count": 50,
      "outputs": [
        {
          "output_type": "stream",
          "name": "stdout",
          "text": [
            "[block_id: \"1\"\n",
            "text_block {\n",
            "  text: \"ASN\"\n",
            "  type_: \"paragraph\"\n",
            "}\n",
            "page_span {\n",
            "  page_start: 1\n",
            "  page_end: 1\n",
            "}\n",
            ", block_id: \"2\"\n",
            "text_block {\n",
            "  text: \"EST. 1928\"\n",
            "  type_: \"paragraph\"\n",
            "}\n",
            "page_span {\n",
            "  page_start: 1\n",
            "  page_end: 1\n",
            "}\n",
            "]\n"
          ]
        }
      ]
    },
    {
      "cell_type": "code",
      "source": [
        "text_chunks = [chunk.content for chunk in chunked_doc.chunks]\n",
        "print(text_chunks[:5])"
      ],
      "metadata": {
        "colab": {
          "base_uri": "https://localhost:8080/"
        },
        "id": "tFIu4Q1wwCrv",
        "outputId": "ca0b58b2-f7c3-4824-bb48-c1b84098f7a3"
      },
      "execution_count": 51,
      "outputs": [
        {
          "output_type": "stream",
          "name": "stdout",
          "text": [
            "['ASNEST. 1928AmericanSociety forNutritionExcellence in Nutrition Research and PracticeThe American Journal ofCLINICAL NUTRITIONjournal homepage: https://ajcn.nutrition.org/Themerican JournalCLINICAL NUTRITIONOriginal Research Article', '# Effect of cinnamon spice on continuously monitored glycemic response in adults with prediabetes: a 4-week randomized controlled crossover trial\\n\\nHila Zelicha¹, Jieping Yang 2, Susanne M Henning 2, Jianjun Huang 2, Ru-Po Lee2, Gail Thames 2, Edward H Livingston¹, David Heber², Zhaoping Li 2,*Department of Surgery, University of California, Los Angeles, Los Angeles, CA, United States; 2 Department of Medicine, Center for Human Nutrition, David Geffen School of Medicine, Los Angeles, United States', '# Effect of cinnamon spice on continuously monitored glycemic response in adults with prediabetes: a 4-week randomized controlled crossover trial\\n\\n## ABSTRACT\\n\\nCheck for updatesBackground: Previous clinical studies showing that cinnamon spice lowers blood glucose concentrations had inconsistent results. Objectives: To determine the effect of daily cinnamon spice supplementation in an amount commonly used for seasoning on glucose concentrations in adults with obesity and prediabetes.Methods: Following a 2-wk run-in period of maintaining a low polyphenol/fiber diet, 18 participants with obesity and prediabetes underwent a 10-wk randomized, controlled, double-blind, crossover trial (mean age 51.1 y; mean fasting plasma glucose 102.9~mg/dL). The participants were randomly assigned to take cinnamon (4~g/d) or placebo for 4-wk, followed by a 2-wk washout period, and then crossed over to the other intervention for an additional 4-wk. Glucose changes were measured with continuous glucose monitoring. Oral glucose tolerance testing immediately following ingestion of cinnamon or placebo was performed at 4-time points to assess their acute effects both at the baseline and end of each intervention phase. Digestive symptom logs were obtained daily.', '# Effect of cinnamon spice on continuously monitored glycemic response in adults with prediabetes: a 4-week randomized controlled crossover trial\\n\\n## ABSTRACT\\n\\nResults: There were 694 follow-up days with 66,624 glucose observations. When compared with placebo, 24-h glucose concentrations were significantly lower when cinnamon was administered [mixed-models; effect size (ES)=0.96; 95% confidence interval (CI): -2.9, -1.5; P<0.0017. Similarly, the mean net-area-under-the-curve (netAUC) for glucose was significantly lower than for placebo when cinnamon was given (over 24 h; ES=-0.66:95\\\\% CI: 2501.7, 5412.1, P=0.01). Cinnamon supplementation resulted in lower glucose peaks compared with placebo (Apeak 9.56\\\\pm9.1~mg/dI compared with 11.73\\\\pm8.0~mg/dL; ES = -0.57; 95% CI: 0.8, 3.7, P=0.027). Glucose-dependent-insulinotropic-polypeptide concentrations increased during oral glucose tolerance testing + cinnamon testing (mixed-models; ES = 0.51; 95% CI: 1.56, 100.1, P=0.04, whereas triglyceride concentrations decreased (mixed-models; ES=0.55; 95% CI: -16.0, -1.6, P=0.02. Treatment adherence was excellent in both groups (cinnamon: 97.6\\\\pm3.4\\\\% compared with placebo: 97.9+3.7\\\\%; ES=-0.15; 95% CI: -1.8, 0.2, P=0.5. No differences were found in digestive symptoms (abdominal pain, borborygmi, bloating, excess flatus, and stools/day) between cinnamon and placebo groups.Conclusions: Cinnamon, a widely available and low-cost supplement, may contribute to better glucose control when added to the diet in people who have obesity-related prediabetes.', '# Effect of cinnamon spice on continuously monitored glycemic response in adults with prediabetes: a 4-week randomized controlled crossover trial\\n\\n## ABSTRACT\\n\\nThis trial was registered at clinicaltrials.gov as NCT04342624.Keywords: cinnamon, continuous glucose system, glycemic response, polyphenols, prediabetes']\n"
          ]
        }
      ]
    },
    {
      "cell_type": "markdown",
      "source": [
        "\n",
        "#3.Convert to embeddings\n",
        "\n",
        "- https://cloud.google.com/vertex-ai/generative-ai/docs/embeddings/get-text-embeddings\n",
        "- https://cloud.google.com/vertex-ai/generative-ai/docs/model-reference/text-embeddings-api\n",
        "- https://cloud.google.com/vertex-ai/docs/vector-search/setup/format-structure"
      ],
      "metadata": {
        "id": "wixjVqfF6_D3"
      }
    },
    {
      "cell_type": "code",
      "source": [
        "import os\n",
        "os.environ[\"GOOGLE_CLOUD_PROJECT\"] = PROJECT_ID\n",
        "\n",
        "!gcloud auth application-default set-quota-project $PROJECT_ID\n",
        "\n",
        "## Restart kernel after this!!"
      ],
      "metadata": {
        "colab": {
          "base_uri": "https://localhost:8080/"
        },
        "id": "BbFaXzMAHUi8",
        "outputId": "2c07baad-4a49-400b-d550-4dc2bebbdcb6"
      },
      "execution_count": 52,
      "outputs": [
        {
          "output_type": "stream",
          "name": "stdout",
          "text": [
            "\n",
            "Credentials saved to file: [/content/.config/application_default_credentials.json]\n",
            "\n",
            "These credentials will be used by any library that requests Application Default Credentials (ADC).\n",
            "\n",
            "Quota project \"rag-llmops-gcp\" was added to ADC which can be used by Google client libraries for billing and quota. Note that some services may still bill the project owning the resource.\n"
          ]
        }
      ]
    },
    {
      "cell_type": "markdown",
      "source": [
        "## Get embeddings from chunks"
      ],
      "metadata": {
        "id": "nIg-bVz2NR1K"
      }
    },
    {
      "cell_type": "code",
      "source": [
        "from typing import List\n",
        "\n",
        "from vertexai.language_models import TextEmbeddingInput, TextEmbeddingModel\n",
        "\n",
        "\n",
        "def embed_text(\n",
        "    texts: List[str] = text_chunks,  # Use your extracted chunks\n",
        "    task: str = \"RETRIEVAL_DOCUMENT\",\n",
        "    model_name: str = \"textembedding-gecko@003\",\n",
        ") -> List[List[float]]:\n",
        "    model = TextEmbeddingModel.from_pretrained(model_name)\n",
        "    inputs = [TextEmbeddingInput(text, task) for text in texts]\n",
        "    embeddings = model.get_embeddings(inputs)\n",
        "    return [embedding.values for embedding in embeddings]\n",
        "\n",
        "embeddings = embed_text(text_chunks)"
      ],
      "metadata": {
        "id": "pebyinA1zfyi"
      },
      "execution_count": 53,
      "outputs": []
    },
    {
      "cell_type": "markdown",
      "source": [
        "## Export all embeddings to gcs"
      ],
      "metadata": {
        "id": "64OeYioaNWcP"
      }
    },
    {
      "cell_type": "code",
      "source": [
        "import json\n",
        "filename = f\"embeddings-{UID}.json\"\n",
        "\n",
        "def create_embeddings_jsonl(text_chunks, embeddings, filename):\n",
        "    with open(filename, 'w') as outfile:\n",
        "        for idx, (text, embedding) in enumerate(zip(text_chunks, embeddings)):\n",
        "            data = {\n",
        "                \"id\": idx,\n",
        "                \"text\": text,\n",
        "                \"embedding\": embedding\n",
        "            }\n",
        "            json.dump(data, outfile, separators=(',', ':'))\n",
        "            outfile.write('\\n')\n",
        "\n",
        "create_embeddings_jsonl(text_chunks, embeddings, filename)"
      ],
      "metadata": {
        "id": "YV2Wj1Tl7gFN"
      },
      "execution_count": 54,
      "outputs": []
    },
    {
      "cell_type": "code",
      "source": [
        "embeddings_path = f\"gs://{BUCKET}/embeddings-data-{UID}/batch_root/\"\n",
        "!gsutil cp {filename} {embeddings_path}"
      ],
      "metadata": {
        "colab": {
          "base_uri": "https://localhost:8080/"
        },
        "id": "cnoz8lwemuGD",
        "outputId": "a4e763f1-7aaf-4fd6-b505-8925b29bfe6d"
      },
      "execution_count": 55,
      "outputs": [
        {
          "output_type": "stream",
          "name": "stdout",
          "text": [
            "Copying file://embeddings-07090208.json [Content-Type=application/json]...\n",
            "-\n",
            "Operation completed over 1 objects/1.1 MiB.                                      \n"
          ]
        }
      ]
    },
    {
      "cell_type": "code",
      "source": [
        "embeddings[0][0]"
      ],
      "metadata": {
        "colab": {
          "base_uri": "https://localhost:8080/"
        },
        "id": "Es2k3JWKMw48",
        "outputId": "30a838e3-1b8b-4857-e0d1-3ff7f490eb67"
      },
      "execution_count": 56,
      "outputs": [
        {
          "output_type": "execute_result",
          "data": {
            "text/plain": [
              "0.021643755957484245"
            ]
          },
          "metadata": {},
          "execution_count": 56
        }
      ]
    },
    {
      "cell_type": "markdown",
      "source": [
        "# 4.Create Vector Search index\n",
        "\n",
        "- https://cloud.google.com/vertex-ai/docs/vector-search/create-manage-index\n",
        "- https://cloud.google.com/vertex-ai/docs/vector-search/configuring-indexes\n",
        "- https://cloud.google.com/vertex-ai/docs/vector-search/configuring-indexes#distance-measure-type\n",
        "- https://cloud.google.com/python/docs/reference/aiplatform/latest/google.cloud.aiplatform.MatchingEngineIndexEndpoint#google_cloud_aiplatform_MatchingEngineIndexEndpoint_deploy_index"
      ],
      "metadata": {
        "id": "X_i4kroHNdFR"
      }
    },
    {
      "cell_type": "code",
      "source": [
        "first_embedding = embeddings[0]\n",
        "embeddings_dimensionality = len(first_embedding)\n",
        "print(f\"Embeddings dimensionality: {embeddings_dimensionality}\")"
      ],
      "metadata": {
        "colab": {
          "base_uri": "https://localhost:8080/"
        },
        "id": "8gksIcrBMyhn",
        "outputId": "2d730c38-7574-44f0-9768-258c6039a039"
      },
      "execution_count": 57,
      "outputs": [
        {
          "output_type": "stream",
          "name": "stdout",
          "text": [
            "Embeddings dimensionality: 768\n"
          ]
        }
      ]
    },
    {
      "cell_type": "markdown",
      "source": [
        "##Setup Index"
      ],
      "metadata": {
        "id": "GD2VLMuWOgXx"
      }
    },
    {
      "cell_type": "code",
      "source": [
        "from google.cloud import aiplatform\n",
        "\n",
        "def vector_search_create_index(\n",
        "    project: str, location: str, display_name: str, gcs_uri: Optional[str] = None\n",
        ") -> None:\n",
        "\n",
        "    aiplatform.init(project=project, location=location, staging_bucket=BUCKET)\n",
        "\n",
        "\n",
        "    index = aiplatform.MatchingEngineIndex.create_tree_ah_index(\n",
        "        display_name=display_name,\n",
        "        contents_delta_uri=f\"{embeddings_path}\",\n",
        "        description=\"RAG Index\",\n",
        "        dimensions=embeddings_dimensionality,\n",
        "        approximate_neighbors_count=50,\n",
        "        leaf_node_embedding_count=500,\n",
        "        leaf_nodes_to_search_percent=7,\n",
        "        index_update_method=\"batch_update\",\n",
        "        distance_measure_type=\"DOT_PRODUCT_DISTANCE\",\n",
        "    )\n",
        "    return(index)\n",
        "\n",
        "\n",
        "display_name = f\"RAG-index-{UID}\"\n",
        "vvs_index = vector_search_create_index(PROJECT_ID, REGION, display_name)"
      ],
      "metadata": {
        "colab": {
          "base_uri": "https://localhost:8080/"
        },
        "id": "Zj4XEVLIN_us",
        "outputId": "11524b23-a955-46f1-c475-efc35a8c173a"
      },
      "execution_count": 58,
      "outputs": [
        {
          "output_type": "stream",
          "name": "stderr",
          "text": [
            "INFO:google.cloud.aiplatform.matching_engine.matching_engine_index:Creating MatchingEngineIndex\n",
            "INFO:google.cloud.aiplatform.matching_engine.matching_engine_index:Create MatchingEngineIndex backing LRO: projects/314626027617/locations/northamerica-northeast1/indexes/5046494488701173760/operations/3335232733172465664\n",
            "INFO:google.cloud.aiplatform.matching_engine.matching_engine_index:MatchingEngineIndex created. Resource name: projects/314626027617/locations/northamerica-northeast1/indexes/5046494488701173760\n",
            "INFO:google.cloud.aiplatform.matching_engine.matching_engine_index:To use this MatchingEngineIndex in another session:\n",
            "INFO:google.cloud.aiplatform.matching_engine.matching_engine_index:index = aiplatform.MatchingEngineIndex('projects/314626027617/locations/northamerica-northeast1/indexes/5046494488701173760')\n"
          ]
        }
      ]
    },
    {
      "cell_type": "markdown",
      "source": [
        "## Create index endpoint and deploy\n",
        "\n",
        "- Check the console to see the the deployment process live. The below code might timeout but the console would finish deploying in 1-2 hours."
      ],
      "metadata": {
        "id": "UyU2-9V4Okev"
      }
    },
    {
      "cell_type": "code",
      "source": [
        "vvs_index_endpoint = aiplatform.MatchingEngineIndexEndpoint.create(\n",
        "    display_name = f\"index-endpoint-{UID}\",\n",
        "    public_endpoint_enabled = True\n",
        ")\n",
        "\n",
        "DEPLOYED_INDEX_ID = f\"deployed_index_{UID}\"\n",
        "\n",
        "vvs_index_endpoint.deploy_index(\n",
        "    index = vvs_index, deployed_index_id = DEPLOYED_INDEX_ID, deploy_request_timeout=2000\n",
        ")"
      ],
      "metadata": {
        "colab": {
          "base_uri": "https://localhost:8080/",
          "height": 670
        },
        "id": "5I58Qt3jOdOq",
        "outputId": "e4f601ca-b740-439c-edf6-52eb804e22fc"
      },
      "execution_count": 59,
      "outputs": [
        {
          "output_type": "stream",
          "name": "stderr",
          "text": [
            "INFO:google.cloud.aiplatform.matching_engine.matching_engine_index_endpoint:Creating MatchingEngineIndexEndpoint\n",
            "INFO:google.cloud.aiplatform.matching_engine.matching_engine_index_endpoint:Create MatchingEngineIndexEndpoint backing LRO: projects/314626027617/locations/northamerica-northeast1/indexEndpoints/8155033762749480960/operations/1099195518183014400\n",
            "INFO:google.cloud.aiplatform.matching_engine.matching_engine_index_endpoint:MatchingEngineIndexEndpoint created. Resource name: projects/314626027617/locations/northamerica-northeast1/indexEndpoints/8155033762749480960\n",
            "INFO:google.cloud.aiplatform.matching_engine.matching_engine_index_endpoint:To use this MatchingEngineIndexEndpoint in another session:\n",
            "INFO:google.cloud.aiplatform.matching_engine.matching_engine_index_endpoint:index_endpoint = aiplatform.MatchingEngineIndexEndpoint('projects/314626027617/locations/northamerica-northeast1/indexEndpoints/8155033762749480960')\n",
            "INFO:google.cloud.aiplatform.matching_engine.matching_engine_index_endpoint:Deploying index MatchingEngineIndexEndpoint index_endpoint: projects/314626027617/locations/northamerica-northeast1/indexEndpoints/8155033762749480960\n",
            "INFO:google.cloud.aiplatform.matching_engine.matching_engine_index_endpoint:Deploy index MatchingEngineIndexEndpoint index_endpoint backing LRO: projects/314626027617/locations/northamerica-northeast1/indexEndpoints/8155033762749480960/operations/5621935443969835008\n"
          ]
        },
        {
          "output_type": "error",
          "ename": "TimeoutError",
          "evalue": "Operation did not complete within the designated timeout of 900 seconds.",
          "traceback": [
            "\u001b[0;31m---------------------------------------------------------------------------\u001b[0m",
            "\u001b[0;31m_OperationNotComplete\u001b[0m                     Traceback (most recent call last)",
            "\u001b[0;32m/usr/local/lib/python3.10/dist-packages/google/api_core/retry/retry_unary.py\u001b[0m in \u001b[0;36mretry_target\u001b[0;34m(target, predicate, sleep_generator, timeout, on_error, exception_factory, **kwargs)\u001b[0m\n\u001b[1;32m    143\u001b[0m         \u001b[0;32mtry\u001b[0m\u001b[0;34m:\u001b[0m\u001b[0;34m\u001b[0m\u001b[0;34m\u001b[0m\u001b[0m\n\u001b[0;32m--> 144\u001b[0;31m             \u001b[0mresult\u001b[0m \u001b[0;34m=\u001b[0m \u001b[0mtarget\u001b[0m\u001b[0;34m(\u001b[0m\u001b[0;34m)\u001b[0m\u001b[0;34m\u001b[0m\u001b[0;34m\u001b[0m\u001b[0m\n\u001b[0m\u001b[1;32m    145\u001b[0m             \u001b[0;32mif\u001b[0m \u001b[0minspect\u001b[0m\u001b[0;34m.\u001b[0m\u001b[0misawaitable\u001b[0m\u001b[0;34m(\u001b[0m\u001b[0mresult\u001b[0m\u001b[0;34m)\u001b[0m\u001b[0;34m:\u001b[0m\u001b[0;34m\u001b[0m\u001b[0;34m\u001b[0m\u001b[0m\n",
            "\u001b[0;32m/usr/local/lib/python3.10/dist-packages/google/api_core/future/polling.py\u001b[0m in \u001b[0;36m_done_or_raise\u001b[0;34m(self, retry)\u001b[0m\n\u001b[1;32m    119\u001b[0m         \u001b[0;32mif\u001b[0m \u001b[0;32mnot\u001b[0m \u001b[0mself\u001b[0m\u001b[0;34m.\u001b[0m\u001b[0mdone\u001b[0m\u001b[0;34m(\u001b[0m\u001b[0mretry\u001b[0m\u001b[0;34m=\u001b[0m\u001b[0mretry\u001b[0m\u001b[0;34m)\u001b[0m\u001b[0;34m:\u001b[0m\u001b[0;34m\u001b[0m\u001b[0;34m\u001b[0m\u001b[0m\n\u001b[0;32m--> 120\u001b[0;31m             \u001b[0;32mraise\u001b[0m \u001b[0m_OperationNotComplete\u001b[0m\u001b[0;34m(\u001b[0m\u001b[0;34m)\u001b[0m\u001b[0;34m\u001b[0m\u001b[0;34m\u001b[0m\u001b[0m\n\u001b[0m\u001b[1;32m    121\u001b[0m \u001b[0;34m\u001b[0m\u001b[0m\n",
            "\u001b[0;31m_OperationNotComplete\u001b[0m: ",
            "\nThe above exception was the direct cause of the following exception:\n",
            "\u001b[0;31mRetryError\u001b[0m                                Traceback (most recent call last)",
            "\u001b[0;32m/usr/local/lib/python3.10/dist-packages/google/api_core/future/polling.py\u001b[0m in \u001b[0;36m_blocking_poll\u001b[0;34m(self, timeout, retry, polling)\u001b[0m\n\u001b[1;32m    136\u001b[0m         \u001b[0;32mtry\u001b[0m\u001b[0;34m:\u001b[0m\u001b[0;34m\u001b[0m\u001b[0;34m\u001b[0m\u001b[0m\n\u001b[0;32m--> 137\u001b[0;31m             \u001b[0mpolling\u001b[0m\u001b[0;34m(\u001b[0m\u001b[0mself\u001b[0m\u001b[0;34m.\u001b[0m\u001b[0m_done_or_raise\u001b[0m\u001b[0;34m)\u001b[0m\u001b[0;34m(\u001b[0m\u001b[0mretry\u001b[0m\u001b[0;34m=\u001b[0m\u001b[0mretry\u001b[0m\u001b[0;34m)\u001b[0m\u001b[0;34m\u001b[0m\u001b[0;34m\u001b[0m\u001b[0m\n\u001b[0m\u001b[1;32m    138\u001b[0m         \u001b[0;32mexcept\u001b[0m \u001b[0mexceptions\u001b[0m\u001b[0;34m.\u001b[0m\u001b[0mRetryError\u001b[0m\u001b[0;34m:\u001b[0m\u001b[0;34m\u001b[0m\u001b[0;34m\u001b[0m\u001b[0m\n",
            "\u001b[0;32m/usr/local/lib/python3.10/dist-packages/google/api_core/retry/retry_unary.py\u001b[0m in \u001b[0;36mretry_wrapped_func\u001b[0;34m(*args, **kwargs)\u001b[0m\n\u001b[1;32m    292\u001b[0m             )\n\u001b[0;32m--> 293\u001b[0;31m             return retry_target(\n\u001b[0m\u001b[1;32m    294\u001b[0m                 \u001b[0mtarget\u001b[0m\u001b[0;34m,\u001b[0m\u001b[0;34m\u001b[0m\u001b[0;34m\u001b[0m\u001b[0m\n",
            "\u001b[0;32m/usr/local/lib/python3.10/dist-packages/google/api_core/retry/retry_unary.py\u001b[0m in \u001b[0;36mretry_target\u001b[0;34m(target, predicate, sleep_generator, timeout, on_error, exception_factory, **kwargs)\u001b[0m\n\u001b[1;32m    152\u001b[0m             \u001b[0;31m# defer to shared logic for handling errors\u001b[0m\u001b[0;34m\u001b[0m\u001b[0;34m\u001b[0m\u001b[0m\n\u001b[0;32m--> 153\u001b[0;31m             _retry_error_helper(\n\u001b[0m\u001b[1;32m    154\u001b[0m                 \u001b[0mexc\u001b[0m\u001b[0;34m,\u001b[0m\u001b[0;34m\u001b[0m\u001b[0;34m\u001b[0m\u001b[0m\n",
            "\u001b[0;32m/usr/local/lib/python3.10/dist-packages/google/api_core/retry/retry_base.py\u001b[0m in \u001b[0;36m_retry_error_helper\u001b[0;34m(exc, deadline, next_sleep, error_list, predicate_fn, on_error_fn, exc_factory_fn, original_timeout)\u001b[0m\n\u001b[1;32m    220\u001b[0m         )\n\u001b[0;32m--> 221\u001b[0;31m         \u001b[0;32mraise\u001b[0m \u001b[0mfinal_exc\u001b[0m \u001b[0;32mfrom\u001b[0m \u001b[0msource_exc\u001b[0m\u001b[0;34m\u001b[0m\u001b[0;34m\u001b[0m\u001b[0m\n\u001b[0m\u001b[1;32m    222\u001b[0m     _LOGGER.debug(\n",
            "\u001b[0;31mRetryError\u001b[0m: Timeout of 900.0s exceeded, last exception: ",
            "\nDuring handling of the above exception, another exception occurred:\n",
            "\u001b[0;31mTimeoutError\u001b[0m                              Traceback (most recent call last)",
            "\u001b[0;32m<ipython-input-59-d10eb14d552e>\u001b[0m in \u001b[0;36m<cell line: 8>\u001b[0;34m()\u001b[0m\n\u001b[1;32m      6\u001b[0m \u001b[0mDEPLOYED_INDEX_ID\u001b[0m \u001b[0;34m=\u001b[0m \u001b[0;34mf\"deployed_index_{UID}\"\u001b[0m\u001b[0;34m\u001b[0m\u001b[0;34m\u001b[0m\u001b[0m\n\u001b[1;32m      7\u001b[0m \u001b[0;34m\u001b[0m\u001b[0m\n\u001b[0;32m----> 8\u001b[0;31m vvs_index_endpoint.deploy_index(\n\u001b[0m\u001b[1;32m      9\u001b[0m     \u001b[0mindex\u001b[0m \u001b[0;34m=\u001b[0m \u001b[0mvvs_index\u001b[0m\u001b[0;34m,\u001b[0m \u001b[0mdeployed_index_id\u001b[0m \u001b[0;34m=\u001b[0m \u001b[0mDEPLOYED_INDEX_ID\u001b[0m\u001b[0;34m,\u001b[0m \u001b[0mdeploy_request_timeout\u001b[0m\u001b[0;34m=\u001b[0m\u001b[0;36m2000\u001b[0m\u001b[0;34m\u001b[0m\u001b[0;34m\u001b[0m\u001b[0m\n\u001b[1;32m     10\u001b[0m )\n",
            "\u001b[0;32m/usr/local/lib/python3.10/dist-packages/google/cloud/aiplatform/matching_engine/matching_engine_index_endpoint.py\u001b[0m in \u001b[0;36mdeploy_index\u001b[0;34m(self, index, deployed_index_id, display_name, machine_type, min_replica_count, max_replica_count, enable_access_logging, reserved_ip_ranges, deployment_group, auth_config_audiences, auth_config_allowed_issuers, request_metadata, deploy_request_timeout)\u001b[0m\n\u001b[1;32m   1085\u001b[0m         )\n\u001b[1;32m   1086\u001b[0m \u001b[0;34m\u001b[0m\u001b[0m\n\u001b[0;32m-> 1087\u001b[0;31m         \u001b[0mdeploy_lro\u001b[0m\u001b[0;34m.\u001b[0m\u001b[0mresult\u001b[0m\u001b[0;34m(\u001b[0m\u001b[0mtimeout\u001b[0m\u001b[0;34m=\u001b[0m\u001b[0;32mNone\u001b[0m\u001b[0;34m)\u001b[0m\u001b[0;34m\u001b[0m\u001b[0;34m\u001b[0m\u001b[0m\n\u001b[0m\u001b[1;32m   1088\u001b[0m \u001b[0;34m\u001b[0m\u001b[0m\n\u001b[1;32m   1089\u001b[0m         _LOGGER.log_action_completed_against_resource(\n",
            "\u001b[0;32m/usr/local/lib/python3.10/dist-packages/google/api_core/future/polling.py\u001b[0m in \u001b[0;36mresult\u001b[0;34m(self, timeout, retry, polling)\u001b[0m\n\u001b[1;32m    254\u001b[0m         \"\"\"\n\u001b[1;32m    255\u001b[0m \u001b[0;34m\u001b[0m\u001b[0m\n\u001b[0;32m--> 256\u001b[0;31m         \u001b[0mself\u001b[0m\u001b[0;34m.\u001b[0m\u001b[0m_blocking_poll\u001b[0m\u001b[0;34m(\u001b[0m\u001b[0mtimeout\u001b[0m\u001b[0;34m=\u001b[0m\u001b[0mtimeout\u001b[0m\u001b[0;34m,\u001b[0m \u001b[0mretry\u001b[0m\u001b[0;34m=\u001b[0m\u001b[0mretry\u001b[0m\u001b[0;34m,\u001b[0m \u001b[0mpolling\u001b[0m\u001b[0;34m=\u001b[0m\u001b[0mpolling\u001b[0m\u001b[0;34m)\u001b[0m\u001b[0;34m\u001b[0m\u001b[0;34m\u001b[0m\u001b[0m\n\u001b[0m\u001b[1;32m    257\u001b[0m \u001b[0;34m\u001b[0m\u001b[0m\n\u001b[1;32m    258\u001b[0m         \u001b[0;32mif\u001b[0m \u001b[0mself\u001b[0m\u001b[0;34m.\u001b[0m\u001b[0m_exception\u001b[0m \u001b[0;32mis\u001b[0m \u001b[0;32mnot\u001b[0m \u001b[0;32mNone\u001b[0m\u001b[0;34m:\u001b[0m\u001b[0;34m\u001b[0m\u001b[0;34m\u001b[0m\u001b[0m\n",
            "\u001b[0;32m/usr/local/lib/python3.10/dist-packages/google/api_core/future/polling.py\u001b[0m in \u001b[0;36m_blocking_poll\u001b[0;34m(self, timeout, retry, polling)\u001b[0m\n\u001b[1;32m    137\u001b[0m             \u001b[0mpolling\u001b[0m\u001b[0;34m(\u001b[0m\u001b[0mself\u001b[0m\u001b[0;34m.\u001b[0m\u001b[0m_done_or_raise\u001b[0m\u001b[0;34m)\u001b[0m\u001b[0;34m(\u001b[0m\u001b[0mretry\u001b[0m\u001b[0;34m=\u001b[0m\u001b[0mretry\u001b[0m\u001b[0;34m)\u001b[0m\u001b[0;34m\u001b[0m\u001b[0;34m\u001b[0m\u001b[0m\n\u001b[1;32m    138\u001b[0m         \u001b[0;32mexcept\u001b[0m \u001b[0mexceptions\u001b[0m\u001b[0;34m.\u001b[0m\u001b[0mRetryError\u001b[0m\u001b[0;34m:\u001b[0m\u001b[0;34m\u001b[0m\u001b[0;34m\u001b[0m\u001b[0m\n\u001b[0;32m--> 139\u001b[0;31m             raise concurrent.futures.TimeoutError(\n\u001b[0m\u001b[1;32m    140\u001b[0m                 \u001b[0;34mf\"Operation did not complete within the designated timeout of \"\u001b[0m\u001b[0;34m\u001b[0m\u001b[0;34m\u001b[0m\u001b[0m\n\u001b[1;32m    141\u001b[0m                 \u001b[0;34mf\"{polling.timeout} seconds.\"\u001b[0m\u001b[0;34m\u001b[0m\u001b[0;34m\u001b[0m\u001b[0m\n",
            "\u001b[0;31mTimeoutError\u001b[0m: Operation did not complete within the designated timeout of 900 seconds."
          ]
        }
      ]
    },
    {
      "cell_type": "markdown",
      "source": [
        "#5.Perform a similarity search"
      ],
      "metadata": {
        "id": "QlcSxbnm9qS5"
      }
    },
    {
      "cell_type": "markdown",
      "source": [
        "## Retrieve the index of nearest neighbours"
      ],
      "metadata": {
        "id": "shh0cxWX-PZW"
      }
    },
    {
      "cell_type": "code",
      "source": [
        "def embed_query(text: str, task: str = \"RETRIEVAL_DOCUMENT\", model_name: str = \"textembedding-gecko@003\"):\n",
        "    model = TextEmbeddingModel.from_pretrained(model_name)\n",
        "    input = TextEmbeddingInput(text, task)\n",
        "    embeddings = model.get_embeddings([input])\n",
        "    return embeddings[0].values\n",
        "\n",
        "query_text = \"How might cinnamon supplementation interact with other dietary or lifestyle interventions for prediabetes management?\"\n",
        "query_embedding = embed_query(query_text)\n",
        "\n",
        "response = vvs_index_endpoint.find_neighbors(\n",
        "    deployed_index_id=DEPLOYED_INDEX_ID,\n",
        "    queries=[query_embedding],\n",
        "    num_neighbors=3\n",
        ")"
      ],
      "metadata": {
        "id": "eBsNkKnb9MoO"
      },
      "execution_count": 66,
      "outputs": []
    },
    {
      "cell_type": "code",
      "source": [
        "print(response)"
      ],
      "metadata": {
        "colab": {
          "base_uri": "https://localhost:8080/"
        },
        "id": "fmXk5FsE91EL",
        "outputId": "ebc4024b-e532-4089-f518-ebff0ccb69ad"
      },
      "execution_count": 67,
      "outputs": [
        {
          "output_type": "stream",
          "name": "stdout",
          "text": [
            "[[MatchNeighbor(id='25', distance=0.8718024492263794, feature_vector=[], crowding_tag='0', restricts=[], numeric_restricts=[]), MatchNeighbor(id='1', distance=0.8679857850074768, feature_vector=[], crowding_tag='0', restricts=[], numeric_restricts=[]), MatchNeighbor(id='62', distance=0.866719126701355, feature_vector=[], crowding_tag='0', restricts=[], numeric_restricts=[])]]\n"
          ]
        }
      ]
    },
    {
      "cell_type": "markdown",
      "source": [
        "##Convert index to embeddings"
      ],
      "metadata": {
        "id": "l_Gb_JwL-VZ0"
      }
    },
    {
      "cell_type": "code",
      "source": [
        "neighbor_id = response[0][0].id\n",
        "neighbor_embedding = vvs_index_endpoint.read_index_datapoints(deployed_index_id=DEPLOYED_INDEX_ID, ids= [neighbor_id],)\n",
        "print(neighbor_embedding)"
      ],
      "metadata": {
        "colab": {
          "base_uri": "https://localhost:8080/"
        },
        "id": "iGGWuDpK95AL",
        "outputId": "2e7e470f-387e-4014-ace8-f07fde55b612"
      },
      "execution_count": 68,
      "outputs": [
        {
          "output_type": "stream",
          "name": "stdout",
          "text": [
            "[datapoint_id: \"25\"\n",
            "feature_vector: 0.010213756002485752\n",
            "feature_vector: -0.04554113373160362\n",
            "feature_vector: -0.052371151745319366\n",
            "feature_vector: -0.004226892255246639\n",
            "feature_vector: 0.08268741518259048\n",
            "feature_vector: 0.030172759667038918\n",
            "feature_vector: 0.005999462679028511\n",
            "feature_vector: 0.004785399883985519\n",
            "feature_vector: -0.01651449128985405\n",
            "feature_vector: 0.015926914289593697\n",
            "feature_vector: 0.0078036184422671795\n",
            "feature_vector: 0.006295306142419577\n",
            "feature_vector: -0.04550287500023842\n",
            "feature_vector: 0.014717058278620243\n",
            "feature_vector: 0.016292987391352654\n",
            "feature_vector: 0.00742254126816988\n",
            "feature_vector: 0.044434625655412674\n",
            "feature_vector: 0.03087618201971054\n",
            "feature_vector: -0.012455801479518414\n",
            "feature_vector: -0.009903752245008945\n",
            "feature_vector: 0.035716526210308075\n",
            "feature_vector: 0.038393374532461166\n",
            "feature_vector: -0.0035299654118716717\n",
            "feature_vector: -0.001954787177965045\n",
            "feature_vector: 0.018482638522982597\n",
            "feature_vector: 0.003270993707701564\n",
            "feature_vector: -0.003023581812158227\n",
            "feature_vector: -0.08073116838932037\n",
            "feature_vector: -0.07649213075637817\n",
            "feature_vector: 0.01665332354605198\n",
            "feature_vector: -0.020826950669288635\n",
            "feature_vector: 0.016117317602038383\n",
            "feature_vector: -0.05670604854822159\n",
            "feature_vector: -0.020737968385219574\n",
            "feature_vector: -0.02633974328637123\n",
            "feature_vector: -0.03432665765285492\n",
            "feature_vector: -0.014214463531970978\n",
            "feature_vector: -0.039306655526161194\n",
            "feature_vector: 0.027689415961503983\n",
            "feature_vector: 0.04637783765792847\n",
            "feature_vector: -0.0013198584783822298\n",
            "feature_vector: -0.007754067424684763\n",
            "feature_vector: -0.07318367809057236\n",
            "feature_vector: -0.03466577082872391\n",
            "feature_vector: 0.018116218969225883\n",
            "feature_vector: -0.027150867506861687\n",
            "feature_vector: 0.009343755431473255\n",
            "feature_vector: 0.041461165994405746\n",
            "feature_vector: 0.019305819645524025\n",
            "feature_vector: -0.0011275585275143385\n",
            "feature_vector: 0.007883545942604542\n",
            "feature_vector: 0.045194607228040695\n",
            "feature_vector: 0.06331469863653183\n",
            "feature_vector: -0.002705921186134219\n",
            "feature_vector: -0.02677244506776333\n",
            "feature_vector: -0.03229823336005211\n",
            "feature_vector: 0.04379032179713249\n",
            "feature_vector: -0.00864668283611536\n",
            "feature_vector: -0.02175099216401577\n",
            "feature_vector: 0.020765649154782295\n",
            "feature_vector: 0.024663953110575676\n",
            "feature_vector: 0.031601354479789734\n",
            "feature_vector: -0.008468306623399258\n",
            "feature_vector: -0.010019890032708645\n",
            "feature_vector: -0.0033339252695441246\n",
            "feature_vector: -0.0747775062918663\n",
            "feature_vector: -0.03126810863614082\n",
            "feature_vector: -0.0022592253517359495\n",
            "feature_vector: 0.1102343201637268\n",
            "feature_vector: -0.03705786541104317\n",
            "feature_vector: 0.005153713282197714\n",
            "feature_vector: -0.01597616635262966\n",
            "feature_vector: 0.03210742399096489\n",
            "feature_vector: 0.0015044439351186156\n",
            "feature_vector: -0.058313384652137756\n",
            "feature_vector: -0.10579535365104675\n",
            "feature_vector: 0.011240947060286999\n",
            "feature_vector: 0.061167649924755096\n",
            "feature_vector: 0.03788338601589203\n",
            "feature_vector: 0.031015949323773384\n",
            "feature_vector: 0.0003586004313547164\n",
            "feature_vector: -0.0008470939355902374\n",
            "feature_vector: -0.045182351022958755\n",
            "feature_vector: -0.018567634746432304\n",
            "feature_vector: -0.05873735994100571\n",
            "feature_vector: 0.017806125804781914\n",
            "feature_vector: -0.043914418667554855\n",
            "feature_vector: -0.001124924048781395\n",
            "feature_vector: 0.04194054752588272\n",
            "feature_vector: 0.04710051417350769\n",
            "feature_vector: -0.015291203744709492\n",
            "feature_vector: -0.06812586635351181\n",
            "feature_vector: 0.058132052421569824\n",
            "feature_vector: -0.07557155936956406\n",
            "feature_vector: -0.03672470897436142\n",
            "feature_vector: 0.03105367161333561\n",
            "feature_vector: -0.029602285474538803\n",
            "feature_vector: -0.03454173356294632\n",
            "feature_vector: 0.02956705167889595\n",
            "feature_vector: -0.041664402931928635\n",
            "feature_vector: 0.0015546075301244855\n",
            "feature_vector: -0.00333201140165329\n",
            "feature_vector: -0.055463314056396484\n",
            "feature_vector: 0.03663555160164833\n",
            "feature_vector: 0.04496704787015915\n",
            "feature_vector: 0.0521487332880497\n",
            "feature_vector: 0.012851143255829811\n",
            "feature_vector: 0.050717923790216446\n",
            "feature_vector: 0.001091906102374196\n",
            "feature_vector: 0.03315552696585655\n",
            "feature_vector: -0.059337761253118515\n",
            "feature_vector: -0.03320082649588585\n",
            "feature_vector: 0.027703776955604553\n",
            "feature_vector: -0.00874391384422779\n",
            "feature_vector: 0.01845730096101761\n",
            "feature_vector: -0.022912967950105667\n",
            "feature_vector: -0.004908239468932152\n",
            "feature_vector: 0.06436268985271454\n",
            "feature_vector: 0.001736365375109017\n",
            "feature_vector: 0.006685097236186266\n",
            "feature_vector: 0.0168997161090374\n",
            "feature_vector: 0.001158769242465496\n",
            "feature_vector: 0.08569081127643585\n",
            "feature_vector: 0.0341574065387249\n",
            "feature_vector: 0.02128669060766697\n",
            "feature_vector: 0.005253639537841082\n",
            "feature_vector: 0.034439198672771454\n",
            "feature_vector: 0.05565658584237099\n",
            "feature_vector: 0.04582773521542549\n",
            "feature_vector: -0.028239065781235695\n",
            "feature_vector: 0.0015455137472599745\n",
            "feature_vector: -0.03515526279807091\n",
            "feature_vector: -0.03988424688577652\n",
            "feature_vector: -0.0026647208724170923\n",
            "feature_vector: 0.03701987862586975\n",
            "feature_vector: 0.027838362380862236\n",
            "feature_vector: 0.04148693382740021\n",
            "feature_vector: 0.01632862165570259\n",
            "feature_vector: 0.06597591936588287\n",
            "feature_vector: -0.011334532871842384\n",
            "feature_vector: 0.028569329530000687\n",
            "feature_vector: 0.02513459138572216\n",
            "feature_vector: 0.019297171384096146\n",
            "feature_vector: 0.05062263458967209\n",
            "feature_vector: -0.014120016247034073\n",
            "feature_vector: 0.054589755833148956\n",
            "feature_vector: -0.05732822045683861\n",
            "feature_vector: 0.001920163631439209\n",
            "feature_vector: 0.036718420684337616\n",
            "feature_vector: -0.013022082857787609\n",
            "feature_vector: 0.007147172931581736\n",
            "feature_vector: 0.01623731106519699\n",
            "feature_vector: -0.07218439131975174\n",
            "feature_vector: -0.011862047016620636\n",
            "feature_vector: 0.06260133534669876\n",
            "feature_vector: 0.0033539205323904753\n",
            "feature_vector: -0.05360371246933937\n",
            "feature_vector: 0.001658705878071487\n",
            "feature_vector: 0.01375129446387291\n",
            "feature_vector: 0.0007104825926944613\n",
            "feature_vector: 0.01689794473350048\n",
            "feature_vector: -0.030264809727668762\n",
            "feature_vector: 0.06327015161514282\n",
            "feature_vector: 0.00460921972990036\n",
            "feature_vector: 0.008276941254734993\n",
            "feature_vector: -0.035210251808166504\n",
            "feature_vector: 0.04260333627462387\n",
            "feature_vector: 0.012830575928092003\n",
            "feature_vector: -0.012481615878641605\n",
            "feature_vector: -0.019372528418898582\n",
            "feature_vector: -0.006924161221832037\n",
            "feature_vector: 0.04947282746434212\n",
            "feature_vector: -0.030038798227906227\n",
            "feature_vector: -0.008029594086110592\n",
            "feature_vector: 0.005006776191294193\n",
            "feature_vector: -0.04238859564065933\n",
            "feature_vector: 0.01869073696434498\n",
            "feature_vector: 0.007976099848747253\n",
            "feature_vector: -0.040894392877817154\n",
            "feature_vector: -0.021888025104999542\n",
            "feature_vector: 0.01895129308104515\n",
            "feature_vector: -0.006064359564334154\n",
            "feature_vector: 0.014443343505263329\n",
            "feature_vector: 0.04951784014701843\n",
            "feature_vector: -0.023740625008940697\n",
            "feature_vector: -0.01565343514084816\n",
            "feature_vector: 0.0327562615275383\n",
            "feature_vector: 0.013654213398694992\n",
            "feature_vector: -0.006853207945823669\n",
            "feature_vector: -0.025222649797797203\n",
            "feature_vector: 0.018605340272188187\n",
            "feature_vector: 0.016506530344486237\n",
            "feature_vector: -0.049006883054971695\n",
            "feature_vector: -0.034310705959796906\n",
            "feature_vector: -0.002169312909245491\n",
            "feature_vector: 0.05920246243476868\n",
            "feature_vector: -0.005816860590130091\n",
            "feature_vector: 0.018989721313118935\n",
            "feature_vector: -0.018968863412737846\n",
            "feature_vector: -0.044602807611227036\n",
            "feature_vector: -0.020134510472416878\n",
            "feature_vector: 0.07864995300769806\n",
            "feature_vector: 0.010655224323272705\n",
            "feature_vector: 0.012446138076484203\n",
            "feature_vector: 0.023279068991541862\n",
            "feature_vector: -0.03726206719875336\n",
            "feature_vector: 0.07128117978572845\n",
            "feature_vector: -0.029495684430003166\n",
            "feature_vector: -0.030171945691108704\n",
            "feature_vector: 0.043768156319856644\n",
            "feature_vector: -0.0458531454205513\n",
            "feature_vector: 0.04155745357275009\n",
            "feature_vector: -0.01819661259651184\n",
            "feature_vector: 0.054062534123659134\n",
            "feature_vector: 0.04352017492055893\n",
            "feature_vector: -0.008958583697676659\n",
            "feature_vector: -0.042372919619083405\n",
            "feature_vector: -0.03313467279076576\n",
            "feature_vector: 0.01801214925944805\n",
            "feature_vector: -0.029161276295781136\n",
            "feature_vector: 0.00946453120559454\n",
            "feature_vector: 0.02400791086256504\n",
            "feature_vector: -0.02873278222978115\n",
            "feature_vector: 0.02674349956214428\n",
            "feature_vector: 0.017104273661971092\n",
            "feature_vector: 0.07210338115692139\n",
            "feature_vector: 0.024741165339946747\n",
            "feature_vector: 0.021254122257232666\n",
            "feature_vector: 0.021047936752438545\n",
            "feature_vector: -0.0229331161826849\n",
            "feature_vector: 0.03521508723497391\n",
            "feature_vector: 0.10928186774253845\n",
            "feature_vector: 0.04577210918068886\n",
            "feature_vector: 0.0167141854763031\n",
            "feature_vector: 0.03261922299861908\n",
            "feature_vector: 0.012186654843389988\n",
            "feature_vector: 0.022500943392515182\n",
            "feature_vector: 0.015260545536875725\n",
            "feature_vector: 0.041453469544649124\n",
            "feature_vector: 0.013904739171266556\n",
            "feature_vector: -0.05469152331352234\n",
            "feature_vector: 0.04491892829537392\n",
            "feature_vector: 0.04797694459557533\n",
            "feature_vector: 0.03561464697122574\n",
            "feature_vector: 0.00763049116358161\n",
            "feature_vector: -0.052900154143571854\n",
            "feature_vector: -0.05022501200437546\n",
            "feature_vector: 0.10766036808490753\n",
            "feature_vector: -0.00987914577126503\n",
            "feature_vector: 0.016312645748257637\n",
            "feature_vector: -0.014097782783210278\n",
            "feature_vector: -0.042772870510816574\n",
            "feature_vector: 0.0018578125163912773\n",
            "feature_vector: 0.006511952728033066\n",
            "feature_vector: -0.06303119659423828\n",
            "feature_vector: 0.05009757727384567\n",
            "feature_vector: -0.043180856853723526\n",
            "feature_vector: 0.01611032523214817\n",
            "feature_vector: -0.07337067276239395\n",
            "feature_vector: 0.014036402106285095\n",
            "feature_vector: 0.06194382533431053\n",
            "feature_vector: -0.048167988657951355\n",
            "feature_vector: 0.008425071835517883\n",
            "feature_vector: 0.04548001289367676\n",
            "feature_vector: -0.05247478187084198\n",
            "feature_vector: -0.013490976765751839\n",
            "feature_vector: 0.01211006660014391\n",
            "feature_vector: -0.028606915846467018\n",
            "feature_vector: 0.0013764218892902136\n",
            "feature_vector: 0.06386895477771759\n",
            "feature_vector: 0.050580840557813644\n",
            "feature_vector: -0.04249861463904381\n",
            "feature_vector: 0.06285683065652847\n",
            "feature_vector: 0.009498369880020618\n",
            "feature_vector: -0.029678644612431526\n",
            "feature_vector: 0.027457160875201225\n",
            "feature_vector: 0.005405199248343706\n",
            "feature_vector: 0.02602142095565796\n",
            "feature_vector: 0.022364821285009384\n",
            "feature_vector: -0.013210808858275414\n",
            "feature_vector: -0.015821348875761032\n",
            "feature_vector: -0.012559428811073303\n",
            "feature_vector: 0.04665668308734894\n",
            "feature_vector: -0.0646577700972557\n",
            "feature_vector: -0.01709340512752533\n",
            "feature_vector: 0.01919153518974781\n",
            "feature_vector: -0.023149719461798668\n",
            "feature_vector: -0.01101419422775507\n",
            "feature_vector: 0.011788597330451012\n",
            "feature_vector: -0.03962017968297005\n",
            "feature_vector: -0.044520266354084015\n",
            "feature_vector: -0.027949616312980652\n",
            "feature_vector: 0.019929558038711548\n",
            "feature_vector: -0.04376455396413803\n",
            "feature_vector: -0.022272134199738503\n",
            "feature_vector: 0.01351113710552454\n",
            "feature_vector: -0.0014991750940680504\n",
            "feature_vector: 0.03153884783387184\n",
            "feature_vector: 0.035703543573617935\n",
            "feature_vector: -0.021282954141497612\n",
            "feature_vector: -0.004634825512766838\n",
            "feature_vector: -0.07359329611063004\n",
            "feature_vector: -0.001108145690523088\n",
            "feature_vector: -0.029530340805649757\n",
            "feature_vector: -0.0004453506844583899\n",
            "feature_vector: -0.02594863623380661\n",
            "feature_vector: -0.012798437848687172\n",
            "feature_vector: -0.018415510654449463\n",
            "feature_vector: -0.00980549119412899\n",
            "feature_vector: 0.0012597129680216312\n",
            "feature_vector: -0.012247628532350063\n",
            "feature_vector: -0.012366796843707561\n",
            "feature_vector: -0.0031062676571309566\n",
            "feature_vector: 0.02267010696232319\n",
            "feature_vector: 0.026355797424912453\n",
            "feature_vector: 0.025809314101934433\n",
            "feature_vector: -0.05749274790287018\n",
            "feature_vector: 0.0400075763463974\n",
            "feature_vector: -0.03993751481175423\n",
            "feature_vector: 0.05010935291647911\n",
            "feature_vector: -0.018013348802924156\n",
            "feature_vector: 0.09018158167600632\n",
            "feature_vector: 0.038778744637966156\n",
            "feature_vector: -0.01830703765153885\n",
            "feature_vector: 0.02438046596944332\n",
            "feature_vector: 0.02517157979309559\n",
            "feature_vector: -0.03766497224569321\n",
            "feature_vector: -0.041388895362615585\n",
            "feature_vector: -0.032291144132614136\n",
            "feature_vector: -0.011224446818232536\n",
            "feature_vector: -0.02625400573015213\n",
            "feature_vector: 0.020480716601014137\n",
            "feature_vector: 0.02254914678633213\n",
            "feature_vector: 0.00021132688561920077\n",
            "feature_vector: -0.0024142873007804155\n",
            "feature_vector: 0.04556814581155777\n",
            "feature_vector: -0.03983251377940178\n",
            "feature_vector: -0.030777405947446823\n",
            "feature_vector: 0.006016116589307785\n",
            "feature_vector: -0.03099163807928562\n",
            "feature_vector: 0.05241108313202858\n",
            "feature_vector: 0.0013659578980877995\n",
            "feature_vector: -0.027538292109966278\n",
            "feature_vector: 0.023026304319500923\n",
            "feature_vector: 0.008766557089984417\n",
            "feature_vector: 0.008875751867890358\n",
            "feature_vector: -0.04237845540046692\n",
            "feature_vector: 0.0301701407879591\n",
            "feature_vector: 0.08255494385957718\n",
            "feature_vector: 0.08477500826120377\n",
            "feature_vector: -0.03200194239616394\n",
            "feature_vector: 0.05234937742352486\n",
            "feature_vector: -0.03918623551726341\n",
            "feature_vector: -0.03959029167890549\n",
            "feature_vector: -0.009892179630696774\n",
            "feature_vector: -0.03746810182929039\n",
            "feature_vector: 0.06427573412656784\n",
            "feature_vector: -0.0015988288214430213\n",
            "feature_vector: 0.030877605080604553\n",
            "feature_vector: -0.02259374037384987\n",
            "feature_vector: 0.016119951382279396\n",
            "feature_vector: 0.0066437614150345325\n",
            "feature_vector: 0.01178823597729206\n",
            "feature_vector: 0.02438374049961567\n",
            "feature_vector: 0.0005166576593182981\n",
            "feature_vector: -0.05189966410398483\n",
            "feature_vector: -0.009291669353842735\n",
            "feature_vector: 0.03124287910759449\n",
            "feature_vector: -0.045754142105579376\n",
            "feature_vector: 0.04467504099011421\n",
            "feature_vector: 0.02978558838367462\n",
            "feature_vector: -0.010907893069088459\n",
            "feature_vector: 0.02004617638885975\n",
            "feature_vector: -0.040188148617744446\n",
            "feature_vector: 0.02901238203048706\n",
            "feature_vector: 0.03450683131814003\n",
            "feature_vector: -0.013429355807602406\n",
            "feature_vector: -0.045195046812295914\n",
            "feature_vector: -0.004219867754727602\n",
            "feature_vector: -0.020046411082148552\n",
            "feature_vector: 0.00701051764190197\n",
            "feature_vector: -0.003626470221206546\n",
            "feature_vector: 0.06631306558847427\n",
            "feature_vector: 0.02825312316417694\n",
            "feature_vector: -0.013531913980841637\n",
            "feature_vector: -0.03661595657467842\n",
            "feature_vector: 0.036890771239995956\n",
            "feature_vector: 0.04095236584544182\n",
            "feature_vector: -0.036138955503702164\n",
            "feature_vector: 0.03790464252233505\n",
            "feature_vector: -0.011413107626140118\n",
            "feature_vector: 0.02272098697721958\n",
            "feature_vector: 0.10346338152885437\n",
            "feature_vector: 0.005211775656789541\n",
            "feature_vector: 0.03848846256732941\n",
            "feature_vector: -0.033153217285871506\n",
            "feature_vector: 0.017998047173023224\n",
            "feature_vector: -0.01249188743531704\n",
            "feature_vector: 0.00046549367834813893\n",
            "feature_vector: -0.02122948318719864\n",
            "feature_vector: -0.003838054835796356\n",
            "feature_vector: -0.08337251096963882\n",
            "feature_vector: -0.028287116438150406\n",
            "feature_vector: -0.013872545212507248\n",
            "feature_vector: -0.037142664194107056\n",
            "feature_vector: 0.01677698828279972\n",
            "feature_vector: -0.023424306884407997\n",
            "feature_vector: -0.02140047959983349\n",
            "feature_vector: -0.0010920196073129773\n",
            "feature_vector: 0.021004512906074524\n",
            "feature_vector: -0.003185815177857876\n",
            "feature_vector: -0.017655951902270317\n",
            "feature_vector: -0.007694107014685869\n",
            "feature_vector: -0.025587227195501328\n",
            "feature_vector: -0.0471092127263546\n",
            "feature_vector: -0.01749962568283081\n",
            "feature_vector: 0.05467796325683594\n",
            "feature_vector: 0.00540354335680604\n",
            "feature_vector: 0.011732916347682476\n",
            "feature_vector: 0.032070569694042206\n",
            "feature_vector: 0.004405695013701916\n",
            "feature_vector: -0.004053924232721329\n",
            "feature_vector: 0.05622649937868118\n",
            "feature_vector: -0.005749377887696028\n",
            "feature_vector: -0.0256358589977026\n",
            "feature_vector: -0.09260506182909012\n",
            "feature_vector: 0.025257112458348274\n",
            "feature_vector: 0.002058977959677577\n",
            "feature_vector: 0.005598326679319143\n",
            "feature_vector: 0.034039098769426346\n",
            "feature_vector: 0.009918298572301865\n",
            "feature_vector: -0.016106674447655678\n",
            "feature_vector: -0.033497270196676254\n",
            "feature_vector: -0.022886376827955246\n",
            "feature_vector: 0.0016834074631333351\n",
            "feature_vector: -0.030188875272870064\n",
            "feature_vector: -0.024415919557213783\n",
            "feature_vector: 0.0259531382471323\n",
            "feature_vector: -0.04023897647857666\n",
            "feature_vector: -0.01896500028669834\n",
            "feature_vector: 0.01908581331372261\n",
            "feature_vector: -0.004435606766492128\n",
            "feature_vector: 0.05241696536540985\n",
            "feature_vector: -0.032467033714056015\n",
            "feature_vector: -0.007856243290007114\n",
            "feature_vector: -0.01019606739282608\n",
            "feature_vector: -0.02174212411046028\n",
            "feature_vector: -0.008319361135363579\n",
            "feature_vector: 0.007335579488426447\n",
            "feature_vector: -0.11109813302755356\n",
            "feature_vector: 0.05944245681166649\n",
            "feature_vector: -0.06190063804388046\n",
            "feature_vector: -0.02895534224808216\n",
            "feature_vector: -0.06189008057117462\n",
            "feature_vector: -0.02793865278363228\n",
            "feature_vector: -0.04221909120678902\n",
            "feature_vector: -0.022305931895971298\n",
            "feature_vector: 0.037056196480989456\n",
            "feature_vector: 0.036928076297044754\n",
            "feature_vector: 0.024459784850478172\n",
            "feature_vector: 0.024690544232726097\n",
            "feature_vector: -0.038040582090616226\n",
            "feature_vector: 0.04949123412370682\n",
            "feature_vector: -0.05151989310979843\n",
            "feature_vector: 0.036314379423856735\n",
            "feature_vector: -0.0324711836874485\n",
            "feature_vector: -0.01696738786995411\n",
            "feature_vector: -0.008108993992209435\n",
            "feature_vector: -0.05264570191502571\n",
            "feature_vector: 0.024108445271849632\n",
            "feature_vector: -0.041497111320495605\n",
            "feature_vector: -0.022119440138339996\n",
            "feature_vector: -0.009476364590227604\n",
            "feature_vector: 0.03117145597934723\n",
            "feature_vector: -0.07629425078630447\n",
            "feature_vector: 0.009545269422233105\n",
            "feature_vector: -0.08001186698675156\n",
            "feature_vector: 0.06828359514474869\n",
            "feature_vector: -0.0443042628467083\n",
            "feature_vector: -0.0131309749558568\n",
            "feature_vector: 0.03725866973400116\n",
            "feature_vector: 0.023027990013360977\n",
            "feature_vector: 0.03763406723737717\n",
            "feature_vector: 0.01729850098490715\n",
            "feature_vector: -0.02818681299686432\n",
            "feature_vector: 0.046097684651613235\n",
            "feature_vector: -0.005546999163925648\n",
            "feature_vector: -0.02579500712454319\n",
            "feature_vector: -0.05940087512135506\n",
            "feature_vector: 0.041987232863903046\n",
            "feature_vector: -0.011614068411290646\n",
            "feature_vector: -0.02161480486392975\n",
            "feature_vector: -0.004152288194745779\n",
            "feature_vector: -0.016271913424134254\n",
            "feature_vector: -0.013795730657875538\n",
            "feature_vector: 0.02023162692785263\n",
            "feature_vector: -0.028541572391986847\n",
            "feature_vector: 0.07873325049877167\n",
            "feature_vector: 0.023790722712874413\n",
            "feature_vector: -0.00522403372451663\n",
            "feature_vector: 0.014750268310308456\n",
            "feature_vector: -0.00933152437210083\n",
            "feature_vector: 0.026766255497932434\n",
            "feature_vector: 0.0208313949406147\n",
            "feature_vector: 0.04427220672369003\n",
            "feature_vector: -0.04532410949468613\n",
            "feature_vector: 0.035273127257823944\n",
            "feature_vector: 0.03892486169934273\n",
            "feature_vector: -0.015634676441550255\n",
            "feature_vector: 0.01866922713816166\n",
            "feature_vector: 0.008466213941574097\n",
            "feature_vector: 0.0003343811840750277\n",
            "feature_vector: 0.05998283997178078\n",
            "feature_vector: 0.019327858462929726\n",
            "feature_vector: 0.03394361212849617\n",
            "feature_vector: 0.019821619614958763\n",
            "feature_vector: 0.015018879435956478\n",
            "feature_vector: 0.0020129228942096233\n",
            "feature_vector: -0.022766711190342903\n",
            "feature_vector: -0.016972050070762634\n",
            "feature_vector: 0.05515005439519882\n",
            "feature_vector: 0.017527835443615913\n",
            "feature_vector: -0.07088971138000488\n",
            "feature_vector: -0.040726907551288605\n",
            "feature_vector: 0.020603179931640625\n",
            "feature_vector: -0.06754586100578308\n",
            "feature_vector: 7.789044320816174e-05\n",
            "feature_vector: 0.03822024166584015\n",
            "feature_vector: -0.035549357533454895\n",
            "feature_vector: 0.03255815804004669\n",
            "feature_vector: -0.042970817536115646\n",
            "feature_vector: 0.05950329452753067\n",
            "feature_vector: -0.08385132998228073\n",
            "feature_vector: 0.006979291792958975\n",
            "feature_vector: -0.006540432572364807\n",
            "feature_vector: 0.0007654791697859764\n",
            "feature_vector: 0.01793355494737625\n",
            "feature_vector: 0.00401642732322216\n",
            "feature_vector: 0.035651031881570816\n",
            "feature_vector: -0.014123735018074512\n",
            "feature_vector: -0.03292962908744812\n",
            "feature_vector: -0.055773645639419556\n",
            "feature_vector: 0.01975724846124649\n",
            "feature_vector: 0.04171518236398697\n",
            "feature_vector: -0.028356662020087242\n",
            "feature_vector: -0.011567526496946812\n",
            "feature_vector: -0.008950288407504559\n",
            "feature_vector: -0.05991940572857857\n",
            "feature_vector: 0.02466079778969288\n",
            "feature_vector: 0.0013555727200582623\n",
            "feature_vector: 0.017900515347719193\n",
            "feature_vector: 0.05134649947285652\n",
            "feature_vector: 0.004202081356197596\n",
            "feature_vector: -0.03390417993068695\n",
            "feature_vector: 0.03983354941010475\n",
            "feature_vector: -0.003791673108935356\n",
            "feature_vector: 0.0018552931724116206\n",
            "feature_vector: -0.018057124689221382\n",
            "feature_vector: 0.0005137064144946635\n",
            "feature_vector: -0.015074635855853558\n",
            "feature_vector: -0.021407097578048706\n",
            "feature_vector: -0.001196434022858739\n",
            "feature_vector: 0.018582098186016083\n",
            "feature_vector: 0.0017713627312332392\n",
            "feature_vector: 0.02975592203438282\n",
            "feature_vector: 0.017968809232115746\n",
            "feature_vector: -0.023692119866609573\n",
            "feature_vector: -0.03984437510371208\n",
            "feature_vector: 0.06849627196788788\n",
            "feature_vector: -0.06721431761980057\n",
            "feature_vector: 0.013980306684970856\n",
            "feature_vector: -0.022592024877667427\n",
            "feature_vector: 0.026930872350931168\n",
            "feature_vector: 0.01046071294695139\n",
            "feature_vector: 0.014833731576800346\n",
            "feature_vector: 0.007201811298727989\n",
            "feature_vector: -0.09855005145072937\n",
            "feature_vector: 0.04088388383388519\n",
            "feature_vector: -0.027947116643190384\n",
            "feature_vector: -0.005273077636957169\n",
            "feature_vector: 0.05040258169174194\n",
            "feature_vector: 0.02241859957575798\n",
            "feature_vector: 0.009912285953760147\n",
            "feature_vector: 0.09828460216522217\n",
            "feature_vector: -0.04791641607880592\n",
            "feature_vector: -0.0010796531569212675\n",
            "feature_vector: 0.01784711889922619\n",
            "feature_vector: -0.0001354150881525129\n",
            "feature_vector: 0.017720596864819527\n",
            "feature_vector: 0.02072952315211296\n",
            "feature_vector: -0.042035046964883804\n",
            "feature_vector: 0.05464768409729004\n",
            "feature_vector: -0.04195564612746239\n",
            "feature_vector: 0.032497067004442215\n",
            "feature_vector: -0.01450925599783659\n",
            "feature_vector: 0.024429194629192352\n",
            "feature_vector: 0.03612900897860527\n",
            "feature_vector: -0.02769186533987522\n",
            "feature_vector: 0.02298651821911335\n",
            "feature_vector: 0.03776777908205986\n",
            "feature_vector: 0.006750620435923338\n",
            "feature_vector: -0.04408414661884308\n",
            "feature_vector: 0.017573105171322823\n",
            "feature_vector: -0.04035647585988045\n",
            "feature_vector: 0.0448809489607811\n",
            "feature_vector: 0.012700405903160572\n",
            "feature_vector: 0.02125360257923603\n",
            "feature_vector: 0.012446863576769829\n",
            "feature_vector: -0.004174591973423958\n",
            "feature_vector: 0.02954898029565811\n",
            "feature_vector: -0.039216767996549606\n",
            "feature_vector: -0.027472583577036858\n",
            "feature_vector: -0.004322895314544439\n",
            "feature_vector: -0.028784483671188354\n",
            "feature_vector: -0.037884924560785294\n",
            "feature_vector: -0.041068993508815765\n",
            "feature_vector: 0.03806363791227341\n",
            "feature_vector: -0.03996464982628822\n",
            "feature_vector: -0.002046529669314623\n",
            "feature_vector: -0.04111407697200775\n",
            "feature_vector: -0.01697779819369316\n",
            "feature_vector: 0.04917323216795921\n",
            "feature_vector: 0.032129619270563126\n",
            "feature_vector: -0.035905227065086365\n",
            "feature_vector: 0.018084000796079636\n",
            "feature_vector: 0.040574271231889725\n",
            "feature_vector: -0.048334382474422455\n",
            "feature_vector: 0.00312262075021863\n",
            "feature_vector: 0.06450183689594269\n",
            "feature_vector: 0.015512347221374512\n",
            "feature_vector: 0.06867173314094543\n",
            "feature_vector: 0.05101964250206947\n",
            "feature_vector: 0.01326288003474474\n",
            "feature_vector: 0.0028340546414256096\n",
            "feature_vector: -0.039428647607564926\n",
            "feature_vector: 0.016961367800831795\n",
            "feature_vector: -0.04250964894890785\n",
            "feature_vector: 0.028736181557178497\n",
            "feature_vector: 0.021289337426424026\n",
            "feature_vector: -0.036215636879205704\n",
            "feature_vector: -0.02230961248278618\n",
            "feature_vector: -0.015296976082026958\n",
            "feature_vector: 0.0270367544144392\n",
            "feature_vector: 0.007559172809123993\n",
            "feature_vector: -0.06316454708576202\n",
            "feature_vector: 0.06273780763149261\n",
            "feature_vector: 0.004271137062460184\n",
            "feature_vector: -0.10996527224779129\n",
            "feature_vector: -0.06627663969993591\n",
            "feature_vector: -0.030363088473677635\n",
            "feature_vector: -0.020106351003050804\n",
            "feature_vector: -0.008917838335037231\n",
            "feature_vector: 0.02517605759203434\n",
            "feature_vector: -0.008346752263605595\n",
            "feature_vector: 0.01077065896242857\n",
            "feature_vector: -0.012515746988356113\n",
            "feature_vector: -0.03196938708424568\n",
            "feature_vector: -0.049158744513988495\n",
            "feature_vector: 0.029969165101647377\n",
            "feature_vector: 0.002039847895503044\n",
            "feature_vector: -0.016668062657117844\n",
            "feature_vector: -0.021062880754470825\n",
            "feature_vector: -0.014560399577021599\n",
            "feature_vector: 0.016224335879087448\n",
            "feature_vector: -0.03579690307378769\n",
            "feature_vector: 0.01994754746556282\n",
            "feature_vector: -0.088007353246212\n",
            "feature_vector: -0.06426820904016495\n",
            "feature_vector: -0.047039635479450226\n",
            "feature_vector: 0.04762617498636246\n",
            "feature_vector: -0.010445251129567623\n",
            "feature_vector: -0.03236072137951851\n",
            "feature_vector: 0.06708831340074539\n",
            "feature_vector: -0.023036981001496315\n",
            "feature_vector: 0.03344001993536949\n",
            "feature_vector: -0.00597470672801137\n",
            "feature_vector: -0.0364740714430809\n",
            "feature_vector: 0.04444684088230133\n",
            "feature_vector: -0.009231769479811192\n",
            "feature_vector: -0.03393758460879326\n",
            "feature_vector: -0.01494983397424221\n",
            "feature_vector: 0.008483697660267353\n",
            "feature_vector: -0.031093453988432884\n",
            "feature_vector: 0.04499979317188263\n",
            "feature_vector: 0.020678842440247536\n",
            "feature_vector: 0.05046601593494415\n",
            "feature_vector: 0.03170178085565567\n",
            "feature_vector: 0.05086861178278923\n",
            "feature_vector: -0.010598964989185333\n",
            "feature_vector: -0.016321105882525444\n",
            "feature_vector: 0.04462704062461853\n",
            "feature_vector: -0.045032765716314316\n",
            "feature_vector: 0.04533768445253372\n",
            "feature_vector: 0.026673462241888046\n",
            "feature_vector: 0.034251872450113297\n",
            "feature_vector: 0.022912397980690002\n",
            "feature_vector: -0.04167608171701431\n",
            "feature_vector: 0.004744764417409897\n",
            "feature_vector: 0.02688778005540371\n",
            "feature_vector: 0.017897440120577812\n",
            "feature_vector: -0.0312365535646677\n",
            "feature_vector: -0.017656834796071053\n",
            "feature_vector: 0.023793023079633713\n",
            "feature_vector: 0.021586516872048378\n",
            "feature_vector: 0.016389289870858192\n",
            "feature_vector: 0.007817401550710201\n",
            "feature_vector: 0.012375078164041042\n",
            "feature_vector: 0.003947312477976084\n",
            "feature_vector: 0.02957390807569027\n",
            "feature_vector: 0.05847978591918945\n",
            "feature_vector: 0.029880791902542114\n",
            "feature_vector: -0.055179301649332047\n",
            "feature_vector: -0.05058002844452858\n",
            "feature_vector: 0.08460933715105057\n",
            "feature_vector: 0.0074272677302360535\n",
            "feature_vector: -0.02893841080367565\n",
            "feature_vector: -0.0016367119969800115\n",
            "feature_vector: 0.08720703423023224\n",
            "feature_vector: -0.02304205112159252\n",
            "feature_vector: 0.019712233915925026\n",
            "feature_vector: 0.041265830397605896\n",
            "feature_vector: 0.040043484419584274\n",
            "feature_vector: 0.01993413269519806\n",
            "feature_vector: -0.02735992893576622\n",
            "feature_vector: -0.02347254753112793\n",
            "feature_vector: 0.07315228134393692\n",
            "feature_vector: -0.023459257557988167\n",
            "feature_vector: 0.014237210154533386\n",
            "feature_vector: -0.032191213220357895\n",
            "feature_vector: 0.01945570483803749\n",
            "feature_vector: 0.02179296500980854\n",
            "feature_vector: -0.011666511185467243\n",
            "feature_vector: -0.01920156367123127\n",
            "feature_vector: 0.03714798763394356\n",
            "feature_vector: 0.012497792020440102\n",
            "feature_vector: 0.06689969450235367\n",
            "feature_vector: 0.020701272413134575\n",
            "feature_vector: 0.03196646273136139\n",
            "feature_vector: -0.0038047372363507748\n",
            "feature_vector: -0.0611545667052269\n",
            "feature_vector: -0.02076500654220581\n",
            "feature_vector: -0.005556432064622641\n",
            "feature_vector: 0.06834646314382553\n",
            "feature_vector: 0.05503254383802414\n",
            "feature_vector: 0.01952763833105564\n",
            "feature_vector: -0.025627342984080315\n",
            "feature_vector: 0.02418014034628868\n",
            "feature_vector: -0.030579814687371254\n",
            "feature_vector: -0.015775399282574654\n",
            "feature_vector: -0.05863161012530327\n",
            "feature_vector: -0.022890273481607437\n",
            "feature_vector: -0.0031889346428215504\n",
            "feature_vector: -0.06010749936103821\n",
            "feature_vector: 0.07937371730804443\n",
            "feature_vector: 0.050861988216638565\n",
            "feature_vector: -0.007739370688796043\n",
            "feature_vector: -0.01582643948495388\n",
            "feature_vector: -0.016567816957831383\n",
            "feature_vector: 0.014185058884322643\n",
            "feature_vector: -0.022304140031337738\n",
            "feature_vector: -0.0077081117779016495\n",
            "feature_vector: 0.029964247718453407\n",
            "feature_vector: 0.005636589601635933\n",
            "feature_vector: -0.007019375450909138\n",
            "feature_vector: 0.026682643219828606\n",
            "feature_vector: 0.04771452397108078\n",
            "feature_vector: -0.06597674638032913\n",
            "feature_vector: 0.008860019035637379\n",
            "crowding_tag {\n",
            "  crowding_attribute: \"0\"\n",
            "}\n",
            "]\n"
          ]
        }
      ]
    },
    {
      "cell_type": "markdown",
      "source": [
        "##Convert Embeddings to texts"
      ],
      "metadata": {
        "id": "VVkkSsyQ-Y6G"
      }
    },
    {
      "cell_type": "code",
      "source": [
        "neighbor_ids = [neighbor.id for neighbor in response[0]]\n",
        "\n",
        "\n",
        "def fetch_text_chunks(ids, filename=filename):\n",
        "    texts = {}\n",
        "    with open(filename, 'r') as file:\n",
        "        for line in file:\n",
        "            data = json.loads(line)\n",
        "            if str(data['id']) in ids:  # Ensure the id from JSON is treated as a string for matching\n",
        "                texts[str(data['id'])] = data['text']\n",
        "    return [texts[id] for id in ids if id in texts]\n",
        "\n",
        "\n",
        "neighbor_texts = fetch_text_chunks([str(id) for id in neighbor_ids], filename=filename)\n",
        "\n",
        "\n",
        "print(neighbor_texts)"
      ],
      "metadata": {
        "colab": {
          "base_uri": "https://localhost:8080/"
        },
        "id": "c410zxKA-Nqz",
        "outputId": "2f8169ff-2e34-47ed-9a80-602056d885b6"
      },
      "execution_count": 69,
      "outputs": [
        {
          "output_type": "stream",
          "name": "stdout",
          "text": [
            "['# Effect of cinnamon spice on continuously monitored glycemic response in adults with prediabetes: a 4-week randomized controlled crossover trial\\n\\n## CGM\\n\\n### TABLE 1\\n\\nBaseline characteristics of the study participants (n=18)^{1}', '# Effect of cinnamon spice on continuously monitored glycemic response in adults with prediabetes: a 4-week randomized controlled crossover trial\\n\\nHila Zelicha¹, Jieping Yang 2, Susanne M Henning 2, Jianjun Huang 2, Ru-Po Lee2, Gail Thames 2, Edward H Livingston¹, David Heber², Zhaoping Li 2,*Department of Surgery, University of California, Los Angeles, Los Angeles, CA, United States; 2 Department of Medicine, Center for Human Nutrition, David Geffen School of Medicine, Los Angeles, United States', '# Appendix A. Supplementary data\\n\\n## References\\n\\n### H. Zelicha et al.\\n\\n[54] M.L. Silva, M.A. Bernardo, J. Singh, M.F. de Mesquita, Cinnamon as a complementary therapeutic approach for dysglycemia and dyslipidemia control in type 2 diabetes mellitus and its molecular mechanism of action: a review, Nutrients 14 (13) (2022) 2773.[55] Q.Y. Lu, P.H. Summanen, R.P. Lee, J. Huang, S.M. Henning, D. Heber, et al., Prebiotic potential and chemical composition of seven culinary spice extracts, J Food Sci 82 (8) (2017) 1807-1813.[56] Q.Y. Lu, A.M. Rasmussen, J. Yang, R.P. Lee, J. Huang, P. Shao, et al., Mixed spices at culinary doses have prebiotic effects in healthy adults: A pilot study, Nutrients 11 (6) (2019).']\n"
          ]
        }
      ]
    },
    {
      "cell_type": "markdown",
      "source": [
        "# 6.Use results with Gemini\n",
        "\n",
        "- https://cloud.google.com/vertex-ai/generative-ai/docs/multimodal/send-chat-prompts-gemini\n",
        "- https://cloud.google.com/vertex-ai/generative-ai/docs/model-reference/inference"
      ],
      "metadata": {
        "id": "_IuyFAmLpbGN"
      }
    },
    {
      "cell_type": "code",
      "source": [
        "import vertexai\n",
        "\n",
        "from vertexai.generative_models import GenerativeModel, ChatSession\n",
        "\n",
        "vertexai.init(project=PROJECT_ID, location=REGION)\n",
        "model = GenerativeModel(model_name=\"gemini-1.0-pro-002\")\n",
        "chat = model.start_chat()\n",
        "\n",
        "def get_chat_response(chat: ChatSession, prompt: str) -> str:\n",
        "    text_response = []\n",
        "    responses = chat.send_message(prompt, stream=True)\n",
        "    for chunk in responses:\n",
        "        text_response.append(chunk.text)\n",
        "    return \"\".join(text_response)"
      ],
      "metadata": {
        "id": "8AgBI2_8nxJU"
      },
      "execution_count": 72,
      "outputs": []
    },
    {
      "cell_type": "markdown",
      "source": [
        "## Try without context\n",
        "\n",
        "Response will be based on the internal knowledge from Gemini"
      ],
      "metadata": {
        "id": "_aaubktYpvpZ"
      }
    },
    {
      "cell_type": "code",
      "source": [
        "prompt = query_text\n",
        "print(get_chat_response(chat, prompt))"
      ],
      "metadata": {
        "colab": {
          "base_uri": "https://localhost:8080/"
        },
        "id": "Pzfq9TaapuOd",
        "outputId": "4189bbde-a5d1-4aa1-c0dc-cbbc9a2bad85"
      },
      "execution_count": 73,
      "outputs": [
        {
          "output_type": "stream",
          "name": "stdout",
          "text": [
            "## Cinnamon and Prediabetes Management: Exploring Interactions with Other Interventions\n",
            "\n",
            "Cinnamon has shown promise as a natural supplement for managing prediabetes, but understanding its interactions with other dietary and lifestyle interventions is crucial for optimizing its effectiveness and safety. Here's a breakdown of potential interactions:\n",
            "\n",
            "**Dietary Interventions:**\n",
            "\n",
            "* **Fiber-rich foods:** Combining cinnamon with high-fiber foods like fruits, vegetables, and legumes can enhance its blood sugar-lowering effects. Fiber slows down the digestion and absorption of carbohydrates, leading to a more gradual rise in blood sugar levels.\n",
            "* **Low-glycemic index (GI) foods:** Pairing cinnamon with low-GI foods like whole grains, non-starchy vegetables, and lean protein can further improve blood sugar control. These foods cause a slower and smaller rise in blood sugar compared to high-GI foods.\n",
            "* **Mediterranean diet:** Studies suggest that incorporating cinnamon into a Mediterranean diet, rich in fruits, vegetables, whole grains, and healthy fats, can provide synergistic benefits for managing prediabetes and reducing cardiovascular risk.\n",
            "\n",
            "**Lifestyle Interventions:**\n",
            "\n",
            "* **Physical activity:** Engaging in regular physical activity, like brisk walking, swimming, or cycling, can significantly improve insulin sensitivity and blood sugar control. Combining cinnamon with exercise can amplify these benefits, leading to better overall prediabetes management.\n",
            "* **Stress management:** Chronic stress can negatively impact blood sugar control. Techniques like yoga, meditation, and deep breathing can help manage stress and potentially enhance the effectiveness of cinnamon in managing prediabetes.\n",
            "* **Weight management:** Losing even a small amount of weight can significantly improve blood sugar control and reduce the risk of developing type 2 diabetes. Combining cinnamon with a healthy weight-loss program can maximize these benefits.\n",
            "\n",
            "**Potential Interactions with Medications:**\n",
            "\n",
            "* **Blood sugar-lowering medications:** It's crucial to consult a healthcare professional before using cinnamon with blood sugar-lowering medications, as it might increase the risk of hypoglycemia (low blood sugar). Dosage adjustments may be necessary to avoid potential interactions.\n",
            "* **Blood-thinning medications:** Cinnamon may interact with blood-thinning medications like warfarin, increasing the risk of bleeding. Consult a healthcare professional before combining them.\n",
            "\n",
            "**Important Considerations:**\n",
            "\n",
            "* **Cinnamon type:** Ceylon cinnamon is generally considered safer than Cassia cinnamon, which contains higher levels of coumarin, a compound that can be harmful in large amounts.\n",
            "* **Dosage:** While studies suggest 1-6 grams of cinnamon daily can be beneficial, individual needs may vary. Consult a healthcare professional to determine the appropriate dosage for your specific situation.\n",
            "* **Safety:** Cinnamon is generally safe for most people, but some individuals may experience mild side effects like heartburn or allergic reactions.\n",
            "\n",
            "**Conclusion:**\n",
            "\n",
            "Cinnamon can be a valuable addition to a comprehensive prediabetes management plan, but it's essential to understand its interactions with other dietary and lifestyle interventions. Consulting a healthcare professional can help you create a personalized approach that optimizes the benefits of cinnamon while minimizing potential risks. \n",
            "\n",
            "Remember, cinnamon is not a magic bullet and should be used in conjunction with other evidence-based interventions like healthy eating, regular exercise, and stress management. By working with your healthcare provider, you can develop a safe and effective strategy for managing prediabetes and improving your overall health.\n"
          ]
        }
      ]
    },
    {
      "cell_type": "markdown",
      "source": [
        "## Try with context\n",
        "\n",
        "Response will be based on the context provided to Gemini"
      ],
      "metadata": {
        "id": "yTIhSGfYpzj0"
      }
    },
    {
      "cell_type": "code",
      "source": [
        "prompt = f\"{query_text} in the context of:{neighbor_texts}\"\n",
        "print(get_chat_response(chat, prompt))"
      ],
      "metadata": {
        "colab": {
          "base_uri": "https://localhost:8080/"
        },
        "id": "3zvwOzcNpnAq",
        "outputId": "1112e955-92b4-418f-b1e8-4e645340c6f3"
      },
      "execution_count": 74,
      "outputs": [
        {
          "output_type": "stream",
          "name": "stdout",
          "text": [
            "## Cinnamon and Prediabetes: Interactions with Other Interventions\n",
            "\n",
            "As you mentioned, research including the study by Zelicha et al. suggests that cinnamon supplementation can positively impact blood sugar control in adults with prediabetes. However, it's important to consider how cinnamon interacts with other vital aspects of prediabetes management, including dietary and lifestyle interventions.\n",
            "\n",
            "**Dietary Interactions:**\n",
            "\n",
            "* **Fiber:** Studies suggest combining cinnamon with high-fiber foods may enhance its blood-sugar-lowering effects. Fiber slows down carbohydrate digestion and absorption, leading to a more gradual rise in blood sugar levels. This synergistic effect could be particularly beneficial for individuals with prediabetes.\n",
            "* **Low-GI foods:** Pairing cinnamon with low-GI foods like whole grains, non-starchy vegetables, and lean protein could further improve blood sugar control. These foods cause a slower and smaller rise in blood sugar compared to high-GI foods, potentially amplifying the benefits of cinnamon.\n",
            "* **Mediterranean diet:** Research indicates that incorporating cinnamon into a Mediterranean diet rich in fruits, vegetables, whole grains, and healthy fats could provide synergistic benefits for managing prediabetes. This dietary pattern is associated with improved blood sugar control and reduced cardiovascular risk.\n",
            "\n",
            "**Lifestyle Interactions:**\n",
            "\n",
            "* **Physical activity:** Engaging in regular physical activity, like brisk walking, swimming, or cycling, can significantly improve insulin sensitivity and blood sugar control. Combining cinnamon with exercise can amplify these benefits, leading to better overall management of prediabetes.\n",
            "* **Stress management:** Chronic stress can negatively impact blood sugar control. Techniques like yoga, meditation, and deep breathing can help manage stress, potentially improving the effectiveness of cinnamon in managing prediabetes.\n",
            "* **Weight management:** Even modest weight loss can significantly improve blood sugar control and reduce the risk of developing type 2 diabetes. Combining cinnamon with a healthy weight-loss approach can maximize these benefits.\n",
            "\n",
            "**Important Considerations:**\n",
            "\n",
            "* **Type of Cinnamon:** Ceylon cinnamon is generally considered safer than Cassia cinnamon due to lower coumarin levels, a compound with potential health concerns in high amounts.\n",
            "* **Dosage:** While research suggests 1-6 grams of cinnamon daily can be beneficial, individual needs may vary. Consulting a healthcare professional can help determine the optimal dosage for your situation.\n",
            "* **Safety:** Cinnamon is generally safe for most people, but some individuals may experience mild side effects like heartburn or allergic reactions.\n",
            "\n",
            "**Conclusion:**\n",
            "\n",
            "Cinnamon can be a valuable tool in a comprehensive approach to managing prediabetes, but its effectiveness is maximized when combined with a healthy diet, regular exercise, and other lifestyle interventions. Understanding the interactions between cinnamon and other aspects of your health plan is crucial for optimizing benefits and minimizing potential risks. \n",
            "\n",
            "Remember, cinnamon is not a substitute for evidence-based interventions. Working with a healthcare professional can ensure a safe and personalized approach to managing your prediabetes and improving overall health.\n",
            "\n",
            "\n"
          ]
        }
      ]
    },
    {
      "cell_type": "markdown",
      "source": [
        "## Try only from context\n",
        "\n",
        "Model instructed to answer only from the given context\n"
      ],
      "metadata": {
        "id": "wKZ4RpH9qAUj"
      }
    },
    {
      "cell_type": "code",
      "source": [
        "prompt = f\"{query_text} Answer only from the following context:{neighbor_texts}\"\n",
        "print(get_chat_response(chat, prompt))"
      ],
      "metadata": {
        "colab": {
          "base_uri": "https://localhost:8080/"
        },
        "id": "uHZiKL02pr4s",
        "outputId": "fa37a43d-c8c0-44ee-ddaa-35a45f519180"
      },
      "execution_count": 75,
      "outputs": [
        {
          "output_type": "stream",
          "name": "stdout",
          "text": [
            "## Interactions of Cinnamon with Other Prediabetes Management Strategies (Based on Provided Context)\n",
            "\n",
            "While the provided context revolves around the study by Zelicha et al. which investigates the effect of cinnamon on glycemic response in adults with prediabetes, it does not offer sufficient information to specifically address interactions with other dietary and lifestyle interventions. Therefore, a comprehensive response focusing solely on this context cannot be provided.\n",
            "\n",
            "However, based on general knowledge and considering the study's conclusions, some potential interactions can be highlighted:\n",
            "\n",
            "**Possible Synergistic Effects:**\n",
            "\n",
            "* **High-fiber foods:** The slow digestion of fiber combined with cinnamon's blood sugar-lowering potential could lead to more sustained control of blood sugar levels.\n",
            "* **Low-GI foods:** Pairing cinnamon with low-GI selections might further reduce blood sugar spikes after meals, enhancing glycemic management.\n",
            "* **Regular physical activity:** Exercise improves insulin sensitivity, potentially amplifying the positive effects of cinnamon on blood sugar control.\n",
            "* **Stress management techniques:** Reducing stress could improve overall metabolic health and enhance the effectiveness of both cinnamon and other prediabetes management strategies.\n",
            "\n",
            "**Important Considerations:**\n",
            "\n",
            "* **Type of cinnamon:** The study focuses on Ceylon cinnamon, the safer variety with lower coumarin content.\n",
            "* **Dosage:** While the study employed 3 grams/day, individual needs may vary. Consulting a healthcare professional is crucial.\n",
            "* **Safety:** Although generally safe, individual sensitivities and potential drug interactions should be considered.\n",
            "\n",
            "\n",
            "**Overall, based on this limited context, we can infer that cinnamon might interact synergistically with other dietary and lifestyle interventions for prediabetes management.** However, for a more comprehensive and accurate understanding of these interactions, broader research and expert guidance are essential.\n",
            "\n"
          ]
        }
      ]
    },
    {
      "cell_type": "markdown",
      "source": [
        "#7.Clean Up GCP ENV"
      ],
      "metadata": {
        "id": "Wg2JQvb9wCmj"
      }
    },
    {
      "cell_type": "code",
      "source": [
        "to_clean = True\n"
      ],
      "metadata": {
        "id": "DcCb77bfwKCB"
      },
      "execution_count": 81,
      "outputs": []
    },
    {
      "cell_type": "markdown",
      "source": [
        "## Delete Processor\n",
        "\n",
        "- Processor location: https://console.cloud.google.com/ai/document-ai/locations/< us-or-eu >/processors?project=< your-project-id >"
      ],
      "metadata": {
        "id": "ltCtaGOkwHgr"
      }
    },
    {
      "cell_type": "code",
      "source": [
        "from google.api_core import exceptions as gcp_exceptions\n",
        "\n",
        "if to_clean:\n",
        "    try:\n",
        "        client.delete_processor(name=processor_name)\n",
        "        print(f\"Deleted Processor: {processor_name}\")\n",
        "    except gcp_exceptions.NotFound:\n",
        "        print(f\"Processor not found: {processor_name}\")\n",
        "else:\n",
        "    print(\"clean_up parameter is set to False\")"
      ],
      "metadata": {
        "colab": {
          "base_uri": "https://localhost:8080/"
        },
        "id": "ZS2cKroMtU6j",
        "outputId": "914f3031-8caa-4537-affc-c2a91d4491e5"
      },
      "execution_count": 82,
      "outputs": [
        {
          "output_type": "stream",
          "name": "stdout",
          "text": [
            "Deleted Processor: projects/314626027617/locations/us/processors/5d7d5f3c2d28335\n"
          ]
        }
      ]
    },
    {
      "cell_type": "markdown",
      "source": [
        "## Delete Vector Search index\n",
        "\n",
        "- https://console.cloud.google.com/vertex-ai/matching-engine/indexes?project=< your-project-id >"
      ],
      "metadata": {
        "id": "gWfzrXGdwXf6"
      }
    },
    {
      "cell_type": "code",
      "source": [
        "if to_clean:\n",
        "    try:\n",
        "        vvs_index.delete()  # Set force=True to bypass the check for deployed indexes\n",
        "        print(f\"Deleted Matching Engine Index: {index.resource_name}\")\n",
        "    except gcp_exceptions.NotFound:\n",
        "        print(f\"Index not found: {index.resource_name}\")\n",
        "    except Exception as e:\n",
        "        print(f\"Error deleting index: {e}\")\n",
        "else:\n",
        "    print(\"clean_up parameter is set to False\")"
      ],
      "metadata": {
        "colab": {
          "base_uri": "https://localhost:8080/"
        },
        "id": "miHzwhSywWwt",
        "outputId": "9abb2a13-5218-4561-c932-59e9a61ea142"
      },
      "execution_count": 83,
      "outputs": [
        {
          "output_type": "stream",
          "name": "stderr",
          "text": [
            "INFO:google.cloud.aiplatform.base:Deleting MatchingEngineIndex : projects/314626027617/locations/northamerica-northeast1/indexes/5046494488701173760\n"
          ]
        },
        {
          "output_type": "stream",
          "name": "stdout",
          "text": [
            "Error deleting index: 400 The Index \"projects/314626027617/locations/northamerica-northeast1/indexes/5046494488701173760\" is deployed or being deployed at the following IndexEndpoint(s): projects/314626027617/locations/northamerica-northeast1/indexEndpoints/8155033762749480960.\n"
          ]
        }
      ]
    },
    {
      "cell_type": "markdown",
      "source": [
        "## Delete the deployed endpoint"
      ],
      "metadata": {
        "id": "g31AvdNUwvpG"
      }
    },
    {
      "cell_type": "code",
      "source": [
        "from google.api_core import exceptions\n",
        "\n",
        "if to_clean:\n",
        "    try:\n",
        "        # Undeploy the deployed index\n",
        "        try:\n",
        "            vvs_index_endpoint.undeploy_index(deployed_index_id=DEPLOYED_INDEX_ID)\n",
        "            print(f\"Undeployed index '{DEPLOYED_INDEX_ID}' from endpoint '{vvs_index_endpoint.name}'.\")\n",
        "        except exceptions.NotFound:\n",
        "            print(f\"Deployed index '{DEPLOYED_INDEX_ID}' not found in endpoint '{vvs_index_endpoint.name}'.\")\n",
        "\n",
        "        # Delete the index endpoint\n",
        "        vvs_index_endpoint.delete()\n",
        "        print(f\"Deleted index endpoint: {vvs_index_endpoint.name}\")\n",
        "\n",
        "    except exceptions.NotFound:\n",
        "        print(f\"Index endpoint not found: {vvs_index_endpoint.name}\")\n",
        "else:\n",
        "    print(\"clean_up parameter is set to False\")"
      ],
      "metadata": {
        "colab": {
          "base_uri": "https://localhost:8080/"
        },
        "id": "mZkdbfhqwtti",
        "outputId": "ed578f79-9c01-4a2c-9024-a7bd4727167c"
      },
      "execution_count": 84,
      "outputs": [
        {
          "output_type": "stream",
          "name": "stderr",
          "text": [
            "INFO:google.cloud.aiplatform.matching_engine.matching_engine_index_endpoint:Undeploying index MatchingEngineIndexEndpoint index_endpoint: projects/314626027617/locations/northamerica-northeast1/indexEndpoints/8155033762749480960\n",
            "INFO:google.cloud.aiplatform.matching_engine.matching_engine_index_endpoint:Undeploy index MatchingEngineIndexEndpoint index_endpoint backing LRO: projects/314626027617/locations/northamerica-northeast1/indexEndpoints/8155033762749480960/operations/3997261878395928576\n",
            "INFO:google.cloud.aiplatform.matching_engine.matching_engine_index_endpoint:MatchingEngineIndexEndpoint index_endpoint Undeployed index. Resource name: projects/314626027617/locations/northamerica-northeast1/indexEndpoints/8155033762749480960\n",
            "INFO:google.cloud.aiplatform.base:Deleting MatchingEngineIndexEndpoint : projects/314626027617/locations/northamerica-northeast1/indexEndpoints/8155033762749480960\n"
          ]
        },
        {
          "output_type": "stream",
          "name": "stdout",
          "text": [
            "Undeployed index 'deployed_index_07090208' from endpoint '8155033762749480960'.\n"
          ]
        },
        {
          "output_type": "stream",
          "name": "stderr",
          "text": [
            "INFO:google.cloud.aiplatform.base:Delete MatchingEngineIndexEndpoint  backing LRO: projects/314626027617/locations/northamerica-northeast1/indexEndpoints/8155033762749480960/operations/3244034840718213120\n",
            "INFO:google.cloud.aiplatform.base:MatchingEngineIndexEndpoint deleted. . Resource name: projects/314626027617/locations/northamerica-northeast1/indexEndpoints/8155033762749480960\n"
          ]
        },
        {
          "output_type": "stream",
          "name": "stdout",
          "text": [
            "Deleted index endpoint: 8155033762749480960\n"
          ]
        }
      ]
    },
    {
      "cell_type": "markdown",
      "source": [
        "## Delete bucket\n",
        "\n",
        "- Bucket location: https://console.cloud.google.com/storage/"
      ],
      "metadata": {
        "id": "UlZ6qV9XxE7-"
      }
    },
    {
      "cell_type": "code",
      "source": [
        "if to_clean == True:\n",
        "    # Delete the bucket\n",
        "    ! gcloud storage rm --recursive gs://$BUCKET\n",
        "else:\n",
        "    print(\"delete_bucket parameter is set to False\")"
      ],
      "metadata": {
        "colab": {
          "base_uri": "https://localhost:8080/"
        },
        "id": "QkngrpGsxGNV",
        "outputId": "b2b53bc2-7cf3-4183-93ea-92a2abbb4ac8"
      },
      "execution_count": 85,
      "outputs": [
        {
          "output_type": "stream",
          "name": "stdout",
          "text": [
            "Removing objects:\n",
            "Removing gs://rag-llmops-gcp-bucket/embeddings-data-07080211/batch_root/embeddings-07080211.json#1720406137994273...\n",
            "Removing gs://rag-llmops-gcp-bucket/embeddings-data-07090054/batch_root/embeddings-07090054.json#1720486516784355...\n",
            "Removing gs://rag-llmops-gcp-bucket/embeddings-data-07090208/batch_root/embeddings-07090208.json#1720490935672601...\n",
            "Removing buckets:\n",
            "Removing gs://rag-llmops-gcp-bucket/...\n"
          ]
        }
      ]
    }
  ]
}